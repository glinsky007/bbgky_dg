{
 "cells": [
  {
   "cell_type": "markdown",
   "metadata": {},
   "source": [
    "# Calculate 3-body rates"
   ]
  },
  {
   "cell_type": "code",
   "execution_count": 53,
   "metadata": {},
   "outputs": [],
   "source": [
    "import matplotlib.pyplot as plt\n",
    "from numpy import *\n",
    "import scipy\n",
    "from scipy.integrate import quad, dblquad, tplquad\n",
    "\n",
    "import warnings\n",
    "warnings.filterwarnings(\"ignore\")"
   ]
  },
  {
   "cell_type": "markdown",
   "metadata": {},
   "source": [
    "## set up the functions to 3D integrations"
   ]
  },
  {
   "cell_type": "code",
   "execution_count": 148,
   "metadata": {},
   "outputs": [
    {
     "name": "stdout",
     "output_type": "stream",
     "text": [
      "f_bar_function(0) = 1.0\n",
      "g_integrand(xi_0, y_0, z_0, eps_1, eps_2) =  0.0\n",
      "g_integrand(xi_1, y_1, z_1, eps_1, eps_2) =  8.608040076769528e-82\n",
      "g_integrand(xi_m, y_m, z_m, eps_1, eps_2) =  0.0006032980459949079\n",
      "h_integrand(xi_0, y_0, z_0, eps_1, eps_2) =  0.0\n",
      "h_integrand(xi_1, y_1, z_1, eps_1, eps_2) =  0.0\n",
      "h_integrand(xi_m, y_m, z_m, eps_1, eps_2) =  0.0024131921839796316\n"
     ]
    },
    {
     "data": {
      "image/png": "[encoded data removed]",
      "text/plain": [
       "<Figure size 432x288 with 1 Axes>"
      ]
     },
     "metadata": {
      "needs_background": "light"
     },
     "output_type": "display_data"
    }
   ],
   "source": [
    "# small number\n",
    "small_number = 1.0e-8\n",
    "\n",
    "# limits for \\xi\n",
    "xi_0 = 0.0\n",
    "xi_1 = pi / 2.0\n",
    "# limits for y\n",
    "y_0 = -1.0\n",
    "y_1 = 1.0\n",
    "# limits for z\n",
    "z_0 = 0.001\n",
    "z_1 = 1.0\n",
    "\n",
    "# example values\n",
    "eps_s = 4.0\n",
    "rc_b = 0.03\n",
    "rho_0 = 2.0 / 3.0\n",
    "eps_0 = eps_s**(1.5) * rc_b / sqrt(2.0)\n",
    "eps_1 = 1.0 / rho_0\n",
    "eps_2 = sqrt(4.0) * eps_1\n",
    "\n",
    "def f_bar_function(mu):\n",
    "    value = exp(minimum(0.0, mu))\n",
    "    value *= scipy.special.erfcx(sqrt(maximum(0.0, mu)))\n",
    "    return value\n",
    "\n",
    "def h_integrand(xi, y, z, eps_1, eps_2):\n",
    "    value = cos(xi)**2\n",
    "    value *= sqrt( abs(1.0 - y**2))\n",
    "    x = sqrt( abs(eps_1**2 * cos(xi)**4 + z**2 - 2.0 * eps_1 * y * z * cos(xi)**2))\n",
    "    mu = eps_2**2 * (z - x) / eps_1 / ((x + small_number) * (z + small_number))\n",
    "#     print('mu = ',mu)\n",
    "    value *= f_bar_function(mu)\n",
    "    return value\n",
    "    \n",
    "def g_integrand(xi, y, z, eps_1, eps_2):\n",
    "    value = sin(xi)\n",
    "    value *= cos(xi)**5\n",
    "    x = sqrt( abs(eps_1**2 * cos(xi)**4 + z**2 - 2.0 * eps_1 * y * z * cos(xi)**2))\n",
    "    mu = eps_2**2 * (z - x) / eps_1 / ((x + small_number) * (z + small_number))\n",
    "#     print('mu = ',mu)\n",
    "    value *= f_bar_function(mu)\n",
    "#     print('f_bar = ',f_bar_function(mu))\n",
    "    return value\n",
    "    \n",
    "print('f_bar_function(0) = ' + str(f_bar_function(0.0)))\n",
    "x = linspace(-10.0, 10.0, num=51)\n",
    "y = f_bar_function(x)\n",
    "\n",
    "fig, ax = plt.subplots()\n",
    "ax.plot(x, y)\n",
    "ax.set(xlabel=r'$\\mu$', ylabel=r'$\\bar{F}(\\mu)$',\n",
    "       title='F_bar function')\n",
    "\n",
    "print('g_integrand(xi_0, y_0, z_0, eps_1, eps_2) = ', g_integrand(xi_0, y_0, z_0, eps_1, eps_2))\n",
    "print('g_integrand(xi_1, y_1, z_1, eps_1, eps_2) = ', g_integrand(xi_1, y_1, z_1, eps_1, eps_2))\n",
    "print('g_integrand(xi_m, y_m, z_m, eps_1, eps_2) = ', g_integrand((xi_0+xi_1)/2.0, (y_0+y_1)/2.0, (z_0+z_1)/2.0, eps_1, eps_2))\n",
    "\n",
    "print('h_integrand(xi_0, y_0, z_0, eps_1, eps_2) = ', h_integrand(xi_0, y_0, z_0, eps_1, eps_2))\n",
    "print('h_integrand(xi_1, y_1, z_1, eps_1, eps_2) = ', h_integrand(xi_1, y_1, z_1, eps_1, eps_2))\n",
    "print('h_integrand(xi_m, y_m, z_m, eps_1, eps_2) = ', h_integrand((xi_0+xi_1)/2.0, (y_0+y_1)/2.0, (z_0+z_1)/2.0, eps_1, eps_2))\n"
   ]
  },
  {
   "cell_type": "code",
   "execution_count": 21,
   "metadata": {},
   "outputs": [
    {
     "name": "stdout",
     "output_type": "stream",
     "text": [
      "0.001 0.1 0.2864073953298263\n"
     ]
    }
   ],
   "source": [
    "eps_1 = 0.001\n",
    "eps_2 = 0.1\n",
    "\n",
    "g_bar = tplquad(g_integrand, z_0, z_1, lambda r:   y_0, lambda r:   y_1,\n",
    "                                       lambda r,t: xi_0, lambda r,t: xi_1,\n",
    "                                       args=(eps_1, eps_2), epsabs=1.0e-4, epsrel=1.0e-4)[0]\n",
    "print(eps_1, eps_2, g_bar)"
   ]
  },
  {
   "cell_type": "markdown",
   "metadata": {},
   "source": [
    "## form the 2D matrix of $\\bar{g}(\\epsilon_1,\\epsilon_2)$"
   ]
  },
  {
   "cell_type": "code",
   "execution_count": 23,
   "metadata": {},
   "outputs": [
    {
     "name": "stdout",
     "output_type": "stream",
     "text": [
      "i, j, eps_1, eps_2, gbar =  0 0 0.001 0.0 0.333\n",
      "i, j, eps_1, eps_2, gbar =  0 1 0.001 0.21052631578947367 0.25148695549893463\n",
      "i, j, eps_1, eps_2, gbar =  0 2 0.001 0.42105263157894735 0.20165854828696467\n",
      "i, j, eps_1, eps_2, gbar =  0 3 0.001 0.631578947368421 0.1646015898671349\n",
      "i, j, eps_1, eps_2, gbar =  0 4 0.001 0.8421052631578947 0.13612561985790303\n",
      "i, j, eps_1, eps_2, gbar =  0 5 0.001 1.0526315789473684 0.11401600717923717\n",
      "i, j, eps_1, eps_2, gbar =  0 6 0.001 1.263157894736842 0.09676920792869868\n",
      "i, j, eps_1, eps_2, gbar =  0 7 0.001 1.4736842105263157 0.08325219004819231\n",
      "i, j, eps_1, eps_2, gbar =  0 8 0.001 1.6842105263157894 0.07258574929581088\n",
      "i, j, eps_1, eps_2, gbar =  0 9 0.001 1.894736842105263 0.06408805756088741\n",
      "i, j, eps_1, eps_2, gbar =  0 10 0.001 2.1052631578947367 0.05724084853882182\n",
      "i, j, eps_1, eps_2, gbar =  0 11 0.001 2.3157894736842106 0.05165085219226665\n",
      "i, j, eps_1, eps_2, gbar =  0 12 0.001 2.526315789473684 0.047026247528767176\n",
      "i, j, eps_1, eps_2, gbar =  0 13 0.001 2.7368421052631575 0.04314912014805861\n",
      "i, j, eps_1, eps_2, gbar =  0 14 0.001 2.9473684210526314 0.03985973606133667\n",
      "i, j, eps_1, eps_2, gbar =  0 15 0.001 3.1578947368421053 0.03703710319849483\n",
      "i, j, eps_1, eps_2, gbar =  0 16 0.001 3.3684210526315788 0.03458924258116599\n",
      "i, j, eps_1, eps_2, gbar =  0 17 0.001 3.578947368421052 0.0324470970816213\n",
      "i, j, eps_1, eps_2, gbar =  0 18 0.001 3.789473684210526 0.03055585684085568\n",
      "i, j, eps_1, eps_2, gbar =  0 19 0.001 4.0 0.028875733464909795\n",
      "i, j, eps_1, eps_2, gbar =  1 0 0.16755555555555557 0.0 0.333\n",
      "i, j, eps_1, eps_2, gbar =  1 1 0.16755555555555557 0.21052631578947367 0.2552955954897427\n",
      "i, j, eps_1, eps_2, gbar =  1 2 0.16755555555555557 0.42105263157894735 0.2027843973142281\n",
      "i, j, eps_1, eps_2, gbar =  1 3 0.16755555555555557 0.631578947368421 0.1641661723312742\n",
      "i, j, eps_1, eps_2, gbar =  1 4 0.16755555555555557 0.8421052631578947 0.1345759142351214\n",
      "i, j, eps_1, eps_2, gbar =  1 5 0.16755555555555557 1.0526315789473684 0.11163589021798141\n",
      "i, j, eps_1, eps_2, gbar =  1 6 0.16755555555555557 1.263157894736842 0.09378378735058406\n",
      "i, j, eps_1, eps_2, gbar =  1 7 0.16755555555555557 1.4736842105263157 0.07985280358853511\n",
      "i, j, eps_1, eps_2, gbar =  1 8 0.16755555555555557 1.6842105263157894 0.06893321858437723\n",
      "i, j, eps_1, eps_2, gbar =  1 9 0.16755555555555557 1.894736842105263 0.06031162659440409\n",
      "i, j, eps_1, eps_2, gbar =  1 10 0.16755555555555557 2.1052631578947367 0.05343668943953338\n",
      "i, j, eps_1, eps_2, gbar =  1 11 0.16755555555555557 2.3157894736842106 0.04788798981144807\n",
      "i, j, eps_1, eps_2, gbar =  1 12 0.16755555555555557 2.526315789473684 0.04335052500041746\n",
      "i, j, eps_1, eps_2, gbar =  1 13 0.16755555555555557 2.7368421052631575 0.03958829569162887\n",
      "i, j, eps_1, eps_2, gbar =  1 14 0.16755555555555557 2.9473684210526314 0.036427015784857616\n",
      "i, j, eps_1, eps_2, gbar =  1 15 0.16755555555555557 3.1578947368421053 0.033738134175859566\n",
      "i, j, eps_1, eps_2, gbar =  1 16 0.16755555555555557 3.3684210526315788 0.03142424566213928\n",
      "i, j, eps_1, eps_2, gbar =  1 17 0.16755555555555557 3.578947368421052 0.02941289155027125\n",
      "i, j, eps_1, eps_2, gbar =  1 18 0.16755555555555557 3.789473684210526 0.02764802912073701\n",
      "i, j, eps_1, eps_2, gbar =  1 19 0.16755555555555557 4.0 0.02608670930634643\n",
      "i, j, eps_1, eps_2, gbar =  2 0 0.33411111111111114 0.0 0.333\n",
      "i, j, eps_1, eps_2, gbar =  2 1 0.33411111111111114 0.21052631578947367 0.26308985136914853\n",
      "i, j, eps_1, eps_2, gbar =  2 2 0.33411111111111114 0.42105263157894735 0.20748162019271124\n",
      "i, j, eps_1, eps_2, gbar =  2 3 0.33411111111111114 0.631578947368421 0.16654556528838416\n",
      "i, j, eps_1, eps_2, gbar =  2 4 0.33411111111111114 0.8421052631578947 0.13530718527029162\n",
      "i, j, eps_1, eps_2, gbar =  2 5 0.33411111111111114 1.0526315789473684 0.1111505174827668\n",
      "i, j, eps_1, eps_2, gbar =  2 6 0.33411111111111114 1.263157894736842 0.09239688550381131\n",
      "i, j, eps_1, eps_2, gbar =  2 7 0.33411111111111114 1.4736842105263157 0.07781482722333286\n",
      "i, j, eps_1, eps_2, gbar =  2 8 0.33411111111111114 1.6842105263157894 0.06644736007113368\n",
      "i, j, eps_1, eps_2, gbar =  2 9 0.33411111111111114 1.894736842105263 0.057541736657195905\n",
      "i, j, eps_1, eps_2, gbar =  2 10 0.33411111111111114 2.1052631578947367 0.050508399435014326\n",
      "i, j, eps_1, eps_2, gbar =  2 11 0.33411111111111114 2.3157894736842106 0.04489600476833335\n",
      "i, j, eps_1, eps_2, gbar =  2 12 0.33411111111111114 2.526315789473684 0.04036028566871269\n",
      "i, j, eps_1, eps_2, gbar =  2 13 0.33411111111111114 2.7368421052631575 0.036642923260215045\n",
      "i, j, eps_1, eps_2, gbar =  2 14 0.33411111111111114 2.9473684210526314 0.03355667099312359\n",
      "i, j, eps_1, eps_2, gbar =  2 15 0.33411111111111114 3.1578947368421053 0.03095693412974724\n",
      "i, j, eps_1, eps_2, gbar =  2 16 0.33411111111111114 3.3684210526315788 0.028740707083203157\n",
      "i, j, eps_1, eps_2, gbar =  2 17 0.33411111111111114 3.578947368421052 0.026827562077587047\n",
      "i, j, eps_1, eps_2, gbar =  2 18 0.33411111111111114 3.789473684210526 0.025161619968394236\n",
      "i, j, eps_1, eps_2, gbar =  2 19 0.33411111111111114 4.0 0.02369616779201333\n",
      "i, j, eps_1, eps_2, gbar =  3 0 0.5006666666666667 0.0 0.333\n",
      "i, j, eps_1, eps_2, gbar =  3 1 0.5006666666666667 0.21052631578947367 0.2710181648685641\n",
      "i, j, eps_1, eps_2, gbar =  3 2 0.5006666666666667 0.42105263157894735 0.21400427922463794\n",
      "i, j, eps_1, eps_2, gbar =  3 3 0.5006666666666667 0.631578947368421 0.17080989891556758\n",
      "i, j, eps_1, eps_2, gbar =  3 4 0.5006666666666667 0.8421052631578947 0.137701613626393\n",
      "i, j, eps_1, eps_2, gbar =  3 5 0.5006666666666667 1.0526315789473684 0.11211175544889436\n",
      "i, j, eps_1, eps_2, gbar =  3 6 0.5006666666666667 1.263157894736842 0.09225553630976392\n",
      "i, j, eps_1, eps_2, gbar =  3 7 0.5006666666666667 1.4736842105263157 0.07684732337432718\n",
      "i, j, eps_1, eps_2, gbar =  3 8 0.5006666666666667 1.6842105263157894 0.06488282302144542\n",
      "i, j, eps_1, eps_2, gbar =  3 9 0.5006666666666667 1.894736842105263 0.05556564252898097\n",
      "i, j, eps_1, eps_2, gbar =  3 10 0.5006666666666667 2.1052631578947367 0.04826830802293722\n",
      "i, j, eps_1, eps_2, gbar =  3 11 0.5006666666666667 2.3157894736842106 0.04250395645744758\n",
      "i, j, eps_1, eps_2, gbar =  3 12 0.5006666666666667 2.526315789473684 0.03789837091919722\n",
      "i, j, eps_1, eps_2, gbar =  3 13 0.5006666666666667 2.7368421052631575 0.03417070425709854\n",
      "i, j, eps_1, eps_2, gbar =  3 14 0.5006666666666667 2.9473684210526314 0.031110440100939364\n",
      "i, j, eps_1, eps_2, gbar =  3 15 0.5006666666666667 3.1578947368421053 0.028562934460939403\n",
      "i, j, eps_1, eps_2, gbar =  3 16 0.5006666666666667 3.3684210526315788 0.026413049362750456\n",
      "i, j, eps_1, eps_2, gbar =  3 17 0.5006666666666667 3.578947368421052 0.024575072344542495\n",
      "i, j, eps_1, eps_2, gbar =  3 18 0.5006666666666667 3.789473684210526 0.022986793079659694\n",
      "i, j, eps_1, eps_2, gbar =  3 19 0.5006666666666667 4.0 0.0215995519668726\n",
      "i, j, eps_1, eps_2, gbar =  4 0 0.6672222222222223 0.0 0.333\n",
      "i, j, eps_1, eps_2, gbar =  4 1 0.6672222222222223 0.21052631578947367 0.2780115385827686\n",
      "i, j, eps_1, eps_2, gbar =  4 2 0.6672222222222223 0.42105263157894735 0.2211483885841815\n",
      "i, j, eps_1, eps_2, gbar =  4 3 0.6672222222222223 0.631578947368421 0.17622912361153178\n",
      "i, j, eps_1, eps_2, gbar =  4 4 0.6672222222222223 0.8421052631578947 0.14133143858350655\n",
      "i, j, eps_1, eps_2, gbar =  4 5 0.6672222222222223 1.0526315789473684 0.11420512551731637\n",
      "i, j, eps_1, eps_2, gbar =  4 6 0.6672222222222223 1.263157894736842 0.09312524452804789\n",
      "i, j, eps_1, eps_2, gbar =  4 7 0.6672222222222223 1.4736842105263157 0.07676940636670398\n",
      "i, j, eps_1, eps_2, gbar =  4 8 0.6672222222222223 1.6842105263157894 0.06409083768728775\n",
      "i, j, eps_1, eps_2, gbar =  4 9 0.6672222222222223 1.894736842105263 0.054258437188684436\n",
      "i, j, eps_1, eps_2, gbar =  4 10 0.6672222222222223 2.1052631578947367 0.04660595341331451\n",
      "i, j, eps_1, eps_2, gbar =  4 11 0.6672222222222223 2.3157894736842106 0.040611866923197584\n",
      "i, j, eps_1, eps_2, gbar =  4 12 0.6672222222222223 2.526315789473684 0.03587353598109851\n",
      "i, j, eps_1, eps_2, gbar =  4 13 0.6672222222222223 2.7368421052631575 0.03208231678357663\n",
      "i, j, eps_1, eps_2, gbar =  4 14 0.6672222222222223 2.9473684210526314 0.029008494390225018\n",
      "i, j, eps_1, eps_2, gbar =  4 15 0.6672222222222223 3.1578947368421053 0.026480263569670003\n"
     ]
    },
    {
     "name": "stdout",
     "output_type": "stream",
     "text": [
      "i, j, eps_1, eps_2, gbar =  4 16 0.6672222222222223 3.3684210526315788 0.024369788622454272\n",
      "i, j, eps_1, eps_2, gbar =  4 17 0.6672222222222223 3.578947368421052 0.022585568635422045\n",
      "i, j, eps_1, eps_2, gbar =  4 18 0.6672222222222223 3.789473684210526 0.02105643716165305\n",
      "i, j, eps_1, eps_2, gbar =  4 19 0.6672222222222223 4.0 0.019732061756610308\n",
      "i, j, eps_1, eps_2, gbar =  5 0 0.8337777777777778 0.0 0.333\n",
      "i, j, eps_1, eps_2, gbar =  5 1 0.8337777777777778 0.21052631578947367 0.2839632063103161\n",
      "i, j, eps_1, eps_2, gbar =  5 2 0.8337777777777778 0.42105263157894735 0.22821787643780206\n",
      "i, j, eps_1, eps_2, gbar =  5 3 0.8337777777777778 0.631578947368421 0.1822138773267956\n",
      "i, j, eps_1, eps_2, gbar =  5 4 0.8337777777777778 0.8421052631578947 0.14575638734703836\n",
      "i, j, eps_1, eps_2, gbar =  5 5 0.8337777777777778 1.0526315789473684 0.11714381373112634\n",
      "i, j, eps_1, eps_2, gbar =  5 6 0.8337777777777778 1.263157894736842 0.09479886719461036\n",
      "i, j, eps_1, eps_2, gbar =  5 7 0.8337777777777778 1.4736842105263157 0.07741979671429633\n",
      "i, j, eps_1, eps_2, gbar =  5 8 0.8337777777777778 1.6842105263157894 0.06394593145266896\n",
      "i, j, eps_1, eps_2, gbar =  5 9 0.8337777777777778 1.894736842105263 0.053516149295490846\n",
      "i, j, eps_1, eps_2, gbar =  5 10 0.8337777777777778 2.1052631578947367 0.04543327415642507\n",
      "i, j, eps_1, eps_2, gbar =  5 11 0.8337777777777778 2.3157894736842106 0.03914537300210551\n",
      "i, j, eps_1, eps_2, gbar =  5 12 0.8337777777777778 2.526315789473684 0.03421742669128175\n",
      "i, j, eps_1, eps_2, gbar =  5 13 0.8337777777777778 2.7368421052631575 0.03031695028042525\n",
      "i, j, eps_1, eps_2, gbar =  5 14 0.8337777777777778 2.9473684210526314 0.027191377770113764\n",
      "i, j, eps_1, eps_2, gbar =  5 15 0.8337777777777778 3.1578947368421053 0.024652428557986935\n",
      "i, j, eps_1, eps_2, gbar =  5 16 0.8337777777777778 3.3684210526315788 0.02255929664201761\n",
      "i, j, eps_1, eps_2, gbar =  5 17 0.8337777777777778 3.578947368421052 0.020807635383506124\n",
      "i, j, eps_1, eps_2, gbar =  5 18 0.8337777777777778 3.789473684210526 0.01932411193010425\n",
      "i, j, eps_1, eps_2, gbar =  5 19 0.8337777777777778 4.0 0.018050124396552757\n",
      "i, j, eps_1, eps_2, gbar =  6 0 1.0003333333333333 0.0 0.333\n",
      "i, j, eps_1, eps_2, gbar =  6 1 1.0003333333333333 0.21052631578947367 0.2889797438133347\n",
      "i, j, eps_1, eps_2, gbar =  6 2 1.0003333333333333 0.42105263157894735 0.2348668250278313\n",
      "i, j, eps_1, eps_2, gbar =  6 3 1.0003333333333333 0.631578947368421 0.18833901252539714\n",
      "i, j, eps_1, eps_2, gbar =  6 4 1.0003333333333333 0.8421052631578947 0.15062908552709553\n",
      "i, j, eps_1, eps_2, gbar =  6 5 1.0003333333333333 1.0526315789473684 0.12065963148015033\n",
      "i, j, eps_1, eps_2, gbar =  6 6 1.0003333333333333 1.263157894736842 0.09707283495532648\n",
      "i, j, eps_1, eps_2, gbar =  6 7 1.0003333333333333 1.4736842105263157 0.07864533050240677\n",
      "i, j, eps_1, eps_2, gbar =  6 8 1.0003333333333333 1.6842105263157894 0.06432666653161463\n",
      "i, j, eps_1, eps_2, gbar =  6 9 1.0003333333333333 1.894736842105263 0.053242035090914845\n",
      "i, j, eps_1, eps_2, gbar =  6 10 1.0003333333333333 2.1052631578947367 0.044671529184215915\n",
      "i, j, eps_1, eps_2, gbar =  6 11 1.0003333333333333 2.3157894736842106 0.03803394350174772\n",
      "i, j, eps_1, eps_2, gbar =  6 12 1.0003333333333333 2.526315789473684 0.03286898548840366\n",
      "i, j, eps_1, eps_2, gbar =  6 13 1.0003333333333333 2.7368421052631575 0.02881851246605891\n",
      "i, j, eps_1, eps_2, gbar =  6 14 1.0003333333333333 2.9473684210526314 0.025608239788406956\n",
      "i, j, eps_1, eps_2, gbar =  6 15 1.0003333333333333 3.1578947368421053 0.023031793456863407\n",
      "i, j, eps_1, eps_2, gbar =  6 16 1.0003333333333333 3.3684210526315788 0.020932408337745047\n",
      "i, j, eps_1, eps_2, gbar =  6 17 1.0003333333333333 3.578947368421052 0.01919848882387253\n",
      "i, j, eps_1, eps_2, gbar =  6 18 1.0003333333333333 3.789473684210526 0.017745133714757316\n",
      "i, j, eps_1, eps_2, gbar =  6 19 1.0003333333333333 4.0 0.016510151474124997\n",
      "i, j, eps_1, eps_2, gbar =  7 0 1.1668888888888889 0.0 0.333\n",
      "i, j, eps_1, eps_2, gbar =  7 1 1.1668888888888889 0.21052631578947367 0.29318342602710973\n",
      "i, j, eps_1, eps_2, gbar =  7 2 1.1668888888888889 0.42105263157894735 0.2409214862070436\n",
      "i, j, eps_1, eps_2, gbar =  7 3 1.1668888888888889 0.631578947368421 0.19430094770123307\n",
      "i, j, eps_1, eps_2, gbar =  7 4 1.1668888888888889 0.8421052631578947 0.15565573852777317\n",
      "i, j, eps_1, eps_2, gbar =  7 5 1.1668888888888889 1.0526315789473684 0.12449869288790948\n",
      "i, j, eps_1, eps_2, gbar =  7 6 1.1668888888888889 1.263157894736842 0.0997492531699978\n",
      "i, j, eps_1, eps_2, gbar =  7 7 1.1668888888888889 1.4736842105263157 0.08028925436483328\n",
      "i, j, eps_1, eps_2, gbar =  7 8 1.1668888888888889 1.6842105263157894 0.06510895962036492\n",
      "i, j, eps_1, eps_2, gbar =  7 9 1.1668888888888889 1.894736842105263 0.05333515557914731\n",
      "i, j, eps_1, eps_2, gbar =  7 10 1.1668888888888889 2.1052631578947367 0.04423498643835197\n",
      "i, j, eps_1, eps_2, gbar =  7 11 1.1668888888888889 2.3157894736842106 0.037206730037922145\n",
      "i, j, eps_1, eps_2, gbar =  7 12 1.1668888888888889 2.526315789473684 0.03176638693555321\n",
      "i, j, eps_1, eps_2, gbar =  7 13 1.1668888888888889 2.7368421052631575 0.027531484803131143\n",
      "i, j, eps_1, eps_2, gbar =  7 14 1.1668888888888889 2.9473684210526314 0.024207565778317217\n",
      "i, j, eps_1, eps_2, gbar =  7 15 1.1668888888888889 3.1578947368421053 0.02156902453301908\n",
      "i, j, eps_1, eps_2, gbar =  7 16 1.1668888888888889 3.3684210526315788 0.019446887517200855\n",
      "i, j, eps_1, eps_2, gbar =  7 17 1.1668888888888889 3.578947368421052 0.017715201285390586\n",
      "i, j, eps_1, eps_2, gbar =  7 18 1.1668888888888889 3.789473684210526 0.01628133230750722\n",
      "i, j, eps_1, eps_2, gbar =  7 19 1.1668888888888889 4.0 0.015076595581871285\n",
      "i, j, eps_1, eps_2, gbar =  8 0 1.3334444444444444 0.0 0.333\n",
      "i, j, eps_1, eps_2, gbar =  8 1 1.3334444444444444 0.21052631578947367 0.2966738666470917\n",
      "i, j, eps_1, eps_2, gbar =  8 2 1.3334444444444444 0.42105263157894735 0.24630789599826175\n",
      "i, j, eps_1, eps_2, gbar =  8 3 1.3334444444444444 0.631578947368421 0.19990367049930652\n",
      "i, j, eps_1, eps_2, gbar =  8 4 1.3334444444444444 0.8421052631578947 0.1606064640687442\n",
      "i, j, eps_1, eps_2, gbar =  8 5 1.3334444444444444 1.0526315789473684 0.12845442364373194\n",
      "i, j, eps_1, eps_2, gbar =  8 6 1.3334444444444444 1.263157894736842 0.1026478001499602\n",
      "i, j, eps_1, eps_2, gbar =  8 7 1.3334444444444444 1.4736842105263157 0.08220490307479554\n",
      "i, j, eps_1, eps_2, gbar =  8 8 1.3334444444444444 1.6842105263157894 0.06617327057366476\n",
      "i, j, eps_1, eps_2, gbar =  8 9 1.3334444444444444 1.894736842105263 0.05369854731016344\n",
      "i, j, eps_1, eps_2, gbar =  8 10 1.3334444444444444 2.1052631578947367 0.04404514474075213\n",
      "i, j, eps_1, eps_2, gbar =  8 11 1.3334444444444444 2.3157894736842106 0.03659628484640528\n",
      "i, j, eps_1, eps_2, gbar =  8 12 1.3334444444444444 2.526315789473684 0.03085125694277933\n",
      "i, j, eps_1, eps_2, gbar =  8 13 1.3334444444444444 2.7368421052631575 0.02640531248571462\n",
      "i, j, eps_1, eps_2, gbar =  8 14 1.3334444444444444 2.9473684210526314 0.02294378485718855\n",
      "i, j, eps_1, eps_2, gbar =  8 15 1.3334444444444444 3.1578947368421053 0.020223740538714063\n",
      "i, j, eps_1, eps_2, gbar =  8 16 1.3334444444444444 3.3684210526315788 0.018061308882995102\n",
      "i, j, eps_1, eps_2, gbar =  8 17 1.3334444444444444 3.578947368421052 0.016318812130058608\n",
      "i, j, eps_1, eps_2, gbar =  8 18 1.3334444444444444 3.789473684210526 0.014894321322571468\n",
      "i, j, eps_1, eps_2, gbar =  8 19 1.3334444444444444 4.0 0.01371352658962395\n",
      "i, j, eps_1, eps_2, gbar =  9 0 1.5 0.0 0.333\n",
      "i, j, eps_1, eps_2, gbar =  9 1 1.5 0.21052631578947367 0.299566752091989\n",
      "i, j, eps_1, eps_2, gbar =  9 2 1.5 0.42105263157894735 0.25104182810608616\n",
      "i, j, eps_1, eps_2, gbar =  9 3 1.5 0.631578947368421 0.20506101417350692\n",
      "i, j, eps_1, eps_2, gbar =  9 4 1.5 0.8421052631578947 0.1653484979541111\n",
      "i, j, eps_1, eps_2, gbar =  9 5 1.5 1.0526315789473684 0.13238707174605632\n",
      "i, j, eps_1, eps_2, gbar =  9 6 1.5 1.263157894736842 0.10564493122263954\n",
      "i, j, eps_1, eps_2, gbar =  9 7 1.5 1.4736842105263157 0.08428640106093267\n",
      "i, j, eps_1, eps_2, gbar =  9 8 1.5 1.6842105263157894 0.06743410683815099\n",
      "i, j, eps_1, eps_2, gbar =  9 9 1.5 1.894736842105263 0.05426309832248675\n",
      "i, j, eps_1, eps_2, gbar =  9 10 1.5 2.1052631578947367 0.0440462261633186\n"
     ]
    },
    {
     "name": "stdout",
     "output_type": "stream",
     "text": [
      "i, j, eps_1, eps_2, gbar =  9 11 1.5 2.3157894736842106 0.03616031829522098\n",
      "i, j, eps_1, eps_2, gbar =  9 12 1.5 2.526315789473684 0.03008819562189517\n",
      "i, j, eps_1, eps_2, gbar =  9 13 1.5 2.7368421052631575 0.025408886468086686\n",
      "i, j, eps_1, eps_2, gbar =  9 14 1.5 2.9473684210526314 0.02178952322239989\n",
      "i, j, eps_1, eps_2, gbar =  9 15 1.5 3.1578947368421053 0.018971064568057864\n",
      "i, j, eps_1, eps_2, gbar =  9 16 1.5 3.3684210526315788 0.016754825126412073\n",
      "i, j, eps_1, eps_2, gbar =  9 17 1.5 3.578947368421052 0.014991343071696092\n",
      "i, j, eps_1, eps_2, gbar =  9 18 1.5 3.789473684210526 0.013568582621605204\n",
      "i, j, eps_1, eps_2, gbar =  9 19 1.5 4.0 0.012402871183061673\n"
     ]
    }
   ],
   "source": [
    "eps_1_min = 0.001\n",
    "eps_1_max = 1.5\n",
    "eps_1_num = 10\n",
    "\n",
    "eps_2_min = 0.0\n",
    "eps_2_max = 4.0\n",
    "eps_2_num = 20\n",
    "\n",
    "eps_1_values = linspace(eps_1_min, eps_1_max, num=eps_1_num)\n",
    "eps_2_values = linspace(eps_2_min, eps_2_max, num=eps_2_num)\n",
    "g_bar = zeros((eps_1_num, eps_2_num))\n",
    "\n",
    "for i, eps_1 in enumerate(eps_1_values):\n",
    "    for j, eps_2 in enumerate(eps_2_values):\n",
    "        g_bar[i,j] = tplquad(g_integrand, z_0, z_1, lambda r:   y_0, lambda r:   y_1,\n",
    "                                                    lambda r,t: xi_0, lambda r,t: xi_1,\n",
    "                                                    args=(eps_1, eps_2), epsabs=1.0e-4, epsrel=1.0e-4)[0]\n",
    "        print('i, j, eps_1, eps_2, gbar = ',i, j, eps_1, eps_2, g_bar[i,j])      "
   ]
  },
  {
   "cell_type": "markdown",
   "metadata": {},
   "source": [
    "#### save"
   ]
  },
  {
   "cell_type": "code",
   "execution_count": 48,
   "metadata": {},
   "outputs": [
    {
     "name": "stdout",
     "output_type": "stream",
     "text": [
      "[[0.333      0.25148696 0.20165855 0.16460159 0.13612562 0.11401601\n",
      "  0.09676921 0.08325219 0.07258575 0.06408806 0.05724085 0.05165085\n",
      "  0.04702625 0.04314912 0.03985974 0.0370371  0.03458924 0.0324471\n",
      "  0.03055586 0.02887573]\n",
      " [0.333      0.2552956  0.2027844  0.16416617 0.13457591 0.11163589\n",
      "  0.09378379 0.0798528  0.06893322 0.06031163 0.05343669 0.04788799\n",
      "  0.04335053 0.0395883  0.03642702 0.03373813 0.03142425 0.02941289\n",
      "  0.02764803 0.02608671]\n",
      " [0.333      0.26308985 0.20748162 0.16654557 0.13530719 0.11115052\n",
      "  0.09239689 0.07781483 0.06644736 0.05754174 0.0505084  0.044896\n",
      "  0.04036029 0.03664292 0.03355667 0.03095693 0.02874071 0.02682756\n",
      "  0.02516162 0.02369617]\n",
      " [0.333      0.27101816 0.21400428 0.1708099  0.13770161 0.11211176\n",
      "  0.09225554 0.07684732 0.06488282 0.05556564 0.04826831 0.04250396\n",
      "  0.03789837 0.0341707  0.03111044 0.02856293 0.02641305 0.02457507\n",
      "  0.02298679 0.02159955]\n",
      " [0.333      0.27801154 0.22114839 0.17622912 0.14133144 0.11420513\n",
      "  0.09312524 0.07676941 0.06409084 0.05425844 0.04660595 0.04061187\n",
      "  0.03587354 0.03208232 0.02900849 0.02648026 0.02436979 0.02258557\n",
      "  0.02105644 0.01973206]\n",
      " [0.333      0.28396321 0.22821788 0.18221388 0.14575639 0.11714381\n",
      "  0.09479887 0.0774198  0.06394593 0.05351615 0.04543327 0.03914537\n",
      "  0.03421743 0.03031695 0.02719138 0.02465243 0.0225593  0.02080764\n",
      "  0.01932411 0.01805012]\n",
      " [0.333      0.28897974 0.23486683 0.18833901 0.15062909 0.12065963\n",
      "  0.09707283 0.07864533 0.06432667 0.05324204 0.04467153 0.03803394\n",
      "  0.03286899 0.02881851 0.02560824 0.02303179 0.02093241 0.01919849\n",
      "  0.01774513 0.01651015]\n",
      " [0.333      0.29318343 0.24092149 0.19430095 0.15565574 0.12449869\n",
      "  0.09974925 0.08028925 0.06510896 0.05333516 0.04423499 0.03720673\n",
      "  0.03176639 0.02753148 0.02420757 0.02156902 0.01944689 0.0177152\n",
      "  0.01628133 0.0150766 ]\n",
      " [0.333      0.29667387 0.2463079  0.19990367 0.16060646 0.12845442\n",
      "  0.1026478  0.0822049  0.06617327 0.05369855 0.04404514 0.03659628\n",
      "  0.03085126 0.02640531 0.02294378 0.02022374 0.01806131 0.01631881\n",
      "  0.01489432 0.01371353]\n",
      " [0.333      0.29956675 0.25104183 0.20506101 0.1653485  0.13238707\n",
      "  0.10564493 0.0842864  0.06743411 0.0542631  0.04404623 0.03616032\n",
      "  0.0300882  0.02540889 0.02178952 0.01897106 0.01675483 0.01499134\n",
      "  0.01356858 0.01240287]]\n"
     ]
    }
   ],
   "source": [
    "print(g_bar)\n",
    "savez('gbar.npz', eps_1_values=eps_1_values, eps_2_values=eps_2_values, g_bar=g_bar)"
   ]
  },
  {
   "cell_type": "markdown",
   "metadata": {},
   "source": [
    "### curve fit $\\bar{g}(\\epsilon_2)$"
   ]
  },
  {
   "cell_type": "code",
   "execution_count": 149,
   "metadata": {
    "scrolled": true
   },
   "outputs": [
    {
     "name": "stdout",
     "output_type": "stream",
     "text": [
      "a =  0.33187858604402126  +-  0.0034167023401472864\n",
      "b =  2.7378255716902893  +-  0.052967787672118315\n"
     ]
    },
    {
     "data": {
      "text/plain": [
       "<matplotlib.legend.Legend at 0x7fda80540cd0>"
      ]
     },
     "execution_count": 149,
     "metadata": {},
     "output_type": "execute_result"
    },
    {
     "data": {
      "image/png": "[encoded data removed]",
      "text/plain": [
       "<Figure size 432x288 with 1 Axes>"
      ]
     },
     "metadata": {
      "needs_background": "light"
     },
     "output_type": "display_data"
    }
   ],
   "source": [
    "from scipy.optimize import curve_fit\n",
    "\n",
    "x2_data, x1_data = meshgrid(eps_2_values, eps_1_values)\n",
    "y_data = g_bar.flatten()\n",
    "x_data = x2_data.flatten()\n",
    "\n",
    "def func(x, a, b):\n",
    "    y = a / sqrt(1 + b**2 * x**2)\n",
    "    return y\n",
    "\n",
    "popt, pcov = curve_fit(func, x_data, y_data)\n",
    "print('a = ', popt[0], ' +- ', sqrt(pcov[0,0]))\n",
    "print('b = ', popt[1], ' +- ', sqrt(pcov[1,1]))\n",
    "\n",
    "plt.figure\n",
    "for i, eps_1 in enumerate(eps_1_values):\n",
    "    plt.plot(x2_data[i,:], g_bar[i,:], 'k-', label='eps_1 = %5.3f' % eps_1, linewidth=0.5)\n",
    "plt.plot(x2_data[0,:], func(x2_data[0,:], *popt), 'r-', label='fit: a=%5.3f, b=%5.3f' % tuple(popt), linewidth=4)\n",
    "plt.xlabel(r'$\\epsilon_2$', fontsize=14)\n",
    "plt.ylabel(r'$\\bar{g}(\\epsilon_1,\\epsilon_2)$', fontsize=14)\n",
    "plt.legend()"
   ]
  },
  {
   "cell_type": "markdown",
   "metadata": {},
   "source": [
    "### set up the calculation of $\\bar{R}(\\epsilon_1,\\epsilon_2)$ and minimize over $\\epsilon_2$ to find $\\bar{R}_o(\\epsilon_1)$"
   ]
  },
  {
   "cell_type": "code",
   "execution_count": 73,
   "metadata": {},
   "outputs": [],
   "source": [
    "from scipy import interpolate\n",
    "from scipy.optimize import minimize\n",
    "\n",
    "x2_data, x1_data = meshgrid(eps_2_values, eps_1_values)\n",
    "g_bar_interpolate = interpolate.interp2d(x1_data, x2_data, g_bar, kind='linear')\n",
    "\n",
    "def r_bar(eps_s, eps_1):\n",
    "    value = exp(eps_s) * eps_s**(-4) * 2.0 * (2.0 * pi)**(1.5)\n",
    "    eps_2 = sqrt(eps_s) * eps_1\n",
    "    value *= g_bar_interpolate(eps_1, eps_2)\n",
    "    return value\n",
    "    \n",
    "r_bar_0 = zeros((eps_1_num))\n",
    "eps_sm = zeros((eps_1_num))\n",
    "\n",
    "for i, eps_1 in enumerate(eps_1_values):\n",
    "    res = minimize(r_bar, array([4.0]), args=(eps_1), method='CG', tol=1.0e-6)\n",
    "    r_bar_0[i] = r_bar(res.x[0], eps_1)\n",
    "    eps_sm[i] = res.x[0]"
   ]
  },
  {
   "cell_type": "markdown",
   "metadata": {},
   "source": [
    "#### save"
   ]
  },
  {
   "cell_type": "code",
   "execution_count": 83,
   "metadata": {},
   "outputs": [
    {
     "name": "stdout",
     "output_type": "stream",
     "text": [
      "[2.20787841 1.49255557 1.06741415 0.76662801 0.55878002 0.40909876\n",
      " 0.30068303 0.22463634 0.16789931 0.12704594] [4.00661604 4.19985426 4.33794544 4.59509598 4.66022071 4.75585688\n",
      " 4.77088673 4.83374814 4.85376372 4.736302  ]\n"
     ]
    }
   ],
   "source": [
    "print(r_bar_0, eps_sm)\n",
    "savez('Rbar0.npz', eps_1_values=eps_1_values, r_bar_0=r_bar_0, eps_sm=eps_sm)"
   ]
  },
  {
   "cell_type": "markdown",
   "metadata": {},
   "source": [
    "#### plot"
   ]
  },
  {
   "cell_type": "code",
   "execution_count": 144,
   "metadata": {},
   "outputs": [
    {
     "data": {
      "image/png": "[encoded data removed]",
      "text/plain": [
       "<Figure size 432x288 with 1 Axes>"
      ]
     },
     "metadata": {
      "needs_background": "light"
     },
     "output_type": "display_data"
    },
    {
     "data": {
      "image/png": "[encoded data removed]",
      "text/plain": [
       "<Figure size 432x288 with 1 Axes>"
      ]
     },
     "metadata": {
      "needs_background": "light"
     },
     "output_type": "display_data"
    },
    {
     "data": {
      "image/png": "[encoded data removed]",
      "text/plain": [
       "<Figure size 432x288 with 1 Axes>"
      ]
     },
     "metadata": {
      "needs_background": "light"
     },
     "output_type": "display_data"
    }
   ],
   "source": [
    "eps_s_min = 0.5\n",
    "eps_s_max = 20\n",
    "eps_s_num = 50\n",
    "\n",
    "eps_s_values = linspace(eps_s_min, eps_s_max, num=eps_s_num)\n",
    "rho_0_values = array([2.5, 1.0, 0.667])\n",
    "line_types = ['k-.', 'k--', 'k-']\n",
    "y_values = zeros((eps_s_num))\n",
    "\n",
    "fig, ax = plt.subplots()\n",
    "ax.set_aspect(0.50)\n",
    "for i, rho_0 in enumerate(rho_0_values):\n",
    "    for j, eps_s in enumerate(eps_s_values):\n",
    "        y_values[j] = rho_0 * r_bar(eps_s_values[j], 1.0 / rho_0)\n",
    "    plt.plot(eps_s_values, y_values, line_types[i], label=r'$\\rho_o = $%5.3f' % rho_0)\n",
    "plt.xscale('log')\n",
    "plt.yscale('log')\n",
    "plt.xlabel(r'$\\epsilon_s$', fontsize=14)\n",
    "plt.ylabel(r'$\\rho_o \\bar{R}(\\epsilon_s, \\rho_o)$', fontsize=14)\n",
    "plt.legend(loc='best')\n",
    "ax.xaxis.set_ticks_position('both')\n",
    "ax.yaxis.set_ticks_position('both')\n",
    "ax.tick_params(which='major', direction='in')\n",
    "ax.tick_params(which='minor', direction='in')\n",
    "plt.xticks(fontsize=12)\n",
    "plt.yticks(fontsize=12)\n",
    "\n",
    "fig, ax = plt.subplots()\n",
    "plt.plot(eps_1_values, r_bar_0, 'ko',)\n",
    "plt.xlabel(r'$1 / \\rho_o$', fontsize=14)\n",
    "plt.ylabel(r'$\\bar{R}_o(1 / \\rho_o)$', fontsize=14)\n",
    "plt.xlim([-0.02,1.52])\n",
    "plt.ylim([0.0,2.5])\n",
    "plt.xticks(fontsize=14)\n",
    "plt.yticks(fontsize=14)\n",
    "ax.set_aspect(0.50)\n",
    "ax.minorticks_on()\n",
    "ax.tick_params(which='major', length=10, width=2, direction='in')\n",
    "ax.tick_params(which='minor', length=5, width=2, direction='in')\n",
    "ax.xaxis.set_ticks_position('both')\n",
    "ax.yaxis.set_ticks_position('both')\n",
    "\n",
    "fig, ax = plt.subplots()\n",
    "plt.plot(eps_1_values, eps_sm, 'ko')\n",
    "plt.xlabel(r'$1 / \\rho_o$', fontsize=14)\n",
    "plt.ylabel(r'$\\epsilon_{sm}(1 / \\rho_o)$', fontsize=14)\n",
    "plt.xlim([-0.02,1.52])\n",
    "plt.ylim([0.0,6.0])\n",
    "plt.xticks(fontsize=14)\n",
    "plt.yticks(fontsize=14)\n",
    "ax.set_aspect(0.2)\n",
    "ax.minorticks_on()\n",
    "ax.tick_params(which='major', length=10, width=2, direction='in')\n",
    "ax.tick_params(which='minor', length=5, width=2, direction='in')\n",
    "ax.xaxis.set_ticks_position('both')\n",
    "ax.yaxis.set_ticks_position('both')"
   ]
  },
  {
   "cell_type": "markdown",
   "metadata": {},
   "source": [
    "#### load"
   ]
  },
  {
   "cell_type": "code",
   "execution_count": 49,
   "metadata": {},
   "outputs": [
    {
     "name": "stdout",
     "output_type": "stream",
     "text": [
      "dict_keys(['eps_1_values', 'eps_2_values', 'g_bar'])\n"
     ]
    }
   ],
   "source": [
    "data = load('gbar.npz',)\n",
    "data_dict = {}\n",
    "for attribute, value in data.items():\n",
    "    data_dict[attribute] = value.tolist()\n",
    "print(data_dict.keys())\n",
    "\n",
    "# eps_1_values = data_dict['eps_1_values']\n",
    "# eps_2_values = data_dict['eps_2_values']\n",
    "# g_bar = data_dict['g_bar']"
   ]
  },
  {
   "cell_type": "markdown",
   "metadata": {},
   "source": [
    "## form the 2D matrix of $\\bar{h}(\\epsilon_1,\\epsilon_2)$"
   ]
  },
  {
   "cell_type": "code",
   "execution_count": 50,
   "metadata": {},
   "outputs": [
    {
     "name": "stdout",
     "output_type": "stream",
     "text": [
      "0.001 0.1 1.073430571456488\n"
     ]
    }
   ],
   "source": [
    "eps_1 = 0.001\n",
    "eps_2 = 0.1\n",
    "\n",
    "h_bar = tplquad(h_integrand, z_0, z_1, lambda r:   y_0, lambda r:   y_1,\n",
    "                                       lambda r,t: xi_0, lambda r,t: xi_1,\n",
    "                                       args=(eps_1, eps_2), epsabs=1.0e-4, epsrel=1.0e-4)[0]\n",
    "print(eps_1, eps_2, h_bar)"
   ]
  },
  {
   "cell_type": "code",
   "execution_count": 52,
   "metadata": {},
   "outputs": [
    {
     "name": "stdout",
     "output_type": "stream",
     "text": [
      "i, j, eps_1, eps_2, hbar =  0 0 0.001 0.0 1.2324668495860345\n",
      "i, j, eps_1, eps_2, hbar =  0 1 0.001 0.21052631578947367 0.9531017629702864\n",
      "i, j, eps_1, eps_2, hbar =  0 2 0.001 0.42105263157894735 0.7797128436143695\n",
      "i, j, eps_1, eps_2, hbar =  0 3 0.001 0.631578947368421 0.6489205023107473\n",
      "i, j, eps_1, eps_2, hbar =  0 4 0.001 0.8421052631578947 0.5467599727122305\n",
      "i, j, eps_1, eps_2, hbar =  0 5 0.001 1.0526315789473684 0.46596079059155965\n",
      "i, j, eps_1, eps_2, hbar =  0 6 0.001 1.263157894736842 0.40164384953283105\n",
      "i, j, eps_1, eps_2, hbar =  0 7 0.001 1.4736842105263157 0.35015838928541737\n",
      "i, j, eps_1, eps_2, hbar =  0 8 0.001 1.6842105263157894 0.3086636874297567\n",
      "i, j, eps_1, eps_2, hbar =  0 9 0.001 1.894736842105263 0.27493313402256525\n",
      "i, j, eps_1, eps_2, hbar =  0 10 0.001 2.1052631578947367 0.2472403316387056\n",
      "i, j, eps_1, eps_2, hbar =  0 11 0.001 2.3157894736842106 0.22426360272803184\n",
      "i, j, eps_1, eps_2, hbar =  0 12 0.001 2.526315789473684 0.20498744059006063\n",
      "i, j, eps_1, eps_2, hbar =  0 13 0.001 2.7368421052631575 0.18863889459845018\n",
      "i, j, eps_1, eps_2, hbar =  0 14 0.001 2.9473684210526314 0.1746329679622387\n",
      "i, j, eps_1, eps_2, hbar =  0 15 0.001 3.1578947368421053 0.1625201495511935\n",
      "i, j, eps_1, eps_2, hbar =  0 16 0.001 3.3684210526315788 0.15194518288054878\n",
      "i, j, eps_1, eps_2, hbar =  0 17 0.001 3.578947368421052 0.14264912479531536\n",
      "i, j, eps_1, eps_2, hbar =  0 18 0.001 3.789473684210526 0.13441390116674837\n",
      "i, j, eps_1, eps_2, hbar =  0 19 0.001 4.0 0.12707202122653244\n",
      "i, j, eps_1, eps_2, hbar =  1 0 0.16755555555555557 0.0 1.2324668495860345\n",
      "i, j, eps_1, eps_2, hbar =  1 1 0.16755555555555557 0.21052631578947367 0.9655945161831492\n",
      "i, j, eps_1, eps_2, hbar =  1 2 0.16755555555555557 0.42105263157894735 0.7809012744251951\n",
      "i, j, eps_1, eps_2, hbar =  1 3 0.16755555555555557 0.631578947368421 0.643594846866722\n",
      "i, j, eps_1, eps_2, hbar =  1 4 0.16755555555555557 0.8421052631578947 0.5369843466654382\n",
      "i, j, eps_1, eps_2, hbar =  1 5 0.16755555555555557 1.0526315789473684 0.4530413771009443\n",
      "i, j, eps_1, eps_2, hbar =  1 6 0.16755555555555557 1.263157894736842 0.3865624090465276\n",
      "i, j, eps_1, eps_2, hbar =  1 7 0.16755555555555557 1.4736842105263157 0.33369625095810507\n",
      "i, j, eps_1, eps_2, hbar =  1 8 0.16755555555555557 1.6842105263157894 0.2914379321189846\n",
      "i, j, eps_1, eps_2, hbar =  1 9 0.16755555555555557 1.894736842105263 0.25742170058217195\n",
      "i, j, eps_1, eps_2, hbar =  1 10 0.16755555555555557 2.1052631578947367 0.22979466641256818\n",
      "i, j, eps_1, eps_2, hbar =  1 11 0.16755555555555557 2.3157894736842106 0.20712047459567234\n",
      "i, j, eps_1, eps_2, hbar =  1 12 0.16755555555555557 2.526315789473684 0.1883001248161978\n",
      "i, j, eps_1, eps_2, hbar =  1 13 0.16755555555555557 2.7368421052631575 0.17249917840464324\n",
      "i, j, eps_1, eps_2, hbar =  1 14 0.16755555555555557 2.9473684210526314 0.15908706620625107\n",
      "i, j, eps_1, eps_2, hbar =  1 15 0.16755555555555557 3.1578947368421053 0.1475782279245848\n",
      "i, j, eps_1, eps_2, hbar =  1 16 0.16755555555555557 3.3684210526315788 0.13760843221289665\n",
      "i, j, eps_1, eps_2, hbar =  1 17 0.16755555555555557 3.578947368421052 0.12889435803356128\n",
      "i, j, eps_1, eps_2, hbar =  1 18 0.16755555555555557 3.789473684210526 0.1212174337729022\n",
      "i, j, eps_1, eps_2, hbar =  1 19 0.16755555555555557 4.0 0.11440501413876196\n",
      "i, j, eps_1, eps_2, hbar =  2 0 0.33411111111111114 0.0 1.2324668495860345\n",
      "i, j, eps_1, eps_2, hbar =  2 1 0.33411111111111114 0.21052631578947367 0.9928378043243257\n",
      "i, j, eps_1, eps_2, hbar =  2 2 0.33411111111111114 0.42105263157894735 0.7957694826718049\n",
      "i, j, eps_1, eps_2, hbar =  2 3 0.33411111111111114 0.631578947368421 0.6490005110823961\n",
      "i, j, eps_1, eps_2, hbar =  2 4 0.33411111111111114 0.8421052631578947 0.5357890887374922\n",
      "i, j, eps_1, eps_2, hbar =  2 5 0.33411111111111114 1.0526315789473684 0.44713808667682076\n",
      "i, j, eps_1, eps_2, hbar =  2 6 0.33411111111111114 1.263157894736842 0.37731503408371425\n",
      "i, j, eps_1, eps_2, hbar =  2 7 0.33411111111111114 1.4736842105263157 0.32214312076427604\n",
      "i, j, eps_1, eps_2, hbar =  2 8 0.33411111111111114 1.6842105263157894 0.2783876803294621\n",
      "i, j, eps_1, eps_2, hbar =  2 9 0.33411111111111114 1.894736842105263 0.2434952373471684\n",
      "i, j, eps_1, eps_2, hbar =  2 10 0.33411111111111114 2.1052631578947367 0.21546030552589204\n",
      "i, j, eps_1, eps_2, hbar =  2 11 0.33411111111111114 2.3157894736842106 0.19271348356680912\n",
      "i, j, eps_1, eps_2, hbar =  2 12 0.33411111111111114 2.526315789473684 0.1740535538345162\n",
      "i, j, eps_1, eps_2, hbar =  2 13 0.33411111111111114 2.7368421052631575 0.15856417309533297\n",
      "i, j, eps_1, eps_2, hbar =  2 14 0.33411111111111114 2.9473684210526314 0.1455533619940182\n",
      "i, j, eps_1, eps_2, hbar =  2 15 0.33411111111111114 3.1578947368421053 0.1344980631209168\n",
      "i, j, eps_1, eps_2, hbar =  2 16 0.33411111111111114 3.3684210526315788 0.12500096906274735\n",
      "i, j, eps_1, eps_2, hbar =  2 17 0.33411111111111114 3.578947368421052 0.11676270211386186\n",
      "i, j, eps_1, eps_2, hbar =  2 18 0.33411111111111114 3.789473684210526 0.10955269667047593\n",
      "i, j, eps_1, eps_2, hbar =  2 19 0.33411111111111114 4.0 0.10318954130571172\n",
      "i, j, eps_1, eps_2, hbar =  3 0 0.5006666666666667 0.0 1.2324668495860345\n",
      "i, j, eps_1, eps_2, hbar =  3 1 0.5006666666666667 0.21052631578947367 1.0200130056402297\n",
      "i, j, eps_1, eps_2, hbar =  3 2 0.5006666666666667 0.42105263157894735 0.817288662123277\n",
      "i, j, eps_1, eps_2, hbar =  3 3 0.5006666666666667 0.631578947368421 0.6615650389498785\n",
      "i, j, eps_1, eps_2, hbar =  3 4 0.5006666666666667 0.8421052631578947 0.5410052775922818\n",
      "i, j, eps_1, eps_2, hbar =  3 5 0.5006666666666667 1.0526315789473684 0.4467741237741252\n",
      "i, j, eps_1, eps_2, hbar =  3 6 0.5006666666666667 1.263157894736842 0.37281119784437594\n",
      "i, j, eps_1, eps_2, hbar =  3 7 0.5006666666666667 1.4736842105263157 0.31465028229022357\n",
      "i, j, eps_1, eps_2, hbar =  3 8 0.5006666666666667 1.6842105263157894 0.2688165566058506\n",
      "i, j, eps_1, eps_2, hbar =  3 9 0.5006666666666667 1.894736842105263 0.23256749984159816\n",
      "i, j, eps_1, eps_2, hbar =  3 10 0.5006666666666667 2.1052631578947367 0.20372499332125488\n",
      "i, j, eps_1, eps_2, hbar =  3 11 0.5006666666666667 2.3157894736842106 0.18058464957625373\n",
      "i, j, eps_1, eps_2, hbar =  3 12 0.5006666666666667 2.526315789473684 0.16182688847591173\n",
      "i, j, eps_1, eps_2, hbar =  3 13 0.5006666666666667 2.7368421052631575 0.14644318693766126\n",
      "i, j, eps_1, eps_2, hbar =  3 14 0.5006666666666667 2.9473684210526314 0.13366963091977518\n",
      "i, j, eps_1, eps_2, hbar =  3 15 0.5006666666666667 3.1578947368421053 0.12293378007446246\n",
      "i, j, eps_1, eps_2, hbar =  3 16 0.5006666666666667 3.3684210526315788 0.11380200645329674\n",
      "i, j, eps_1, eps_2, hbar =  3 17 0.5006666666666667 3.578947368421052 0.10594981459146152\n",
      "i, j, eps_1, eps_2, hbar =  3 18 0.5006666666666667 3.789473684210526 0.09912814897206793\n",
      "i, j, eps_1, eps_2, hbar =  3 19 0.5006666666666667 4.0 0.09314900474183067\n",
      "i, j, eps_1, eps_2, hbar =  4 0 0.6672222222222223 0.0 1.2324668495860345\n",
      "i, j, eps_1, eps_2, hbar =  4 1 0.6672222222222223 0.21052631578947367 1.043476458417556\n",
      "i, j, eps_1, eps_2, hbar =  4 2 0.6672222222222223 0.42105263157894735 0.8407785678253934\n",
      "i, j, eps_1, eps_2, hbar =  4 3 0.6672222222222223 0.631578947368421 0.6783197034201486\n",
      "i, j, eps_1, eps_2, hbar =  4 4 0.6672222222222223 0.8421052631578947 0.5507957523380967\n",
      "i, j, eps_1, eps_2, hbar =  4 5 0.6672222222222223 1.0526315789473684 0.45073270190811243\n",
      "i, j, eps_1, eps_2, hbar =  4 6 0.6672222222222223 1.263157894736842 0.37219552286538465\n",
      "i, j, eps_1, eps_2, hbar =  4 7 0.6672222222222223 1.4736842105263157 0.31058002271329727\n",
      "i, j, eps_1, eps_2, hbar =  4 8 0.6672222222222223 1.6842105263157894 0.2622343824395234\n",
      "i, j, eps_1, eps_2, hbar =  4 9 0.6672222222222223 1.894736842105263 0.22423719860828545\n",
      "i, j, eps_1, eps_2, hbar =  4 10 0.6672222222222223 2.1052631578947367 0.1942553291048408\n",
      "i, j, eps_1, eps_2, hbar =  4 11 0.6672222222222223 2.3157894736842106 0.1704414974742001\n",
      "i, j, eps_1, eps_2, hbar =  4 12 0.6672222222222223 2.526315789473684 0.15135506671853996\n",
      "i, j, eps_1, eps_2, hbar =  4 13 0.6672222222222223 2.7368421052631575 0.13589131722489534\n",
      "i, j, eps_1, eps_2, hbar =  4 14 0.6672222222222223 2.9473684210526314 0.1232079414305108\n",
      "i, j, eps_1, eps_2, hbar =  4 15 0.6672222222222223 3.1578947368421053 0.11267299719560812\n"
     ]
    },
    {
     "name": "stdout",
     "output_type": "stream",
     "text": [
      "i, j, eps_1, eps_2, hbar =  4 16 0.6672222222222223 3.3684210526315788 0.10381028653944246\n",
      "i, j, eps_1, eps_2, hbar =  4 17 0.6672222222222223 3.578947368421052 0.09626465291125141\n",
      "i, j, eps_1, eps_2, hbar =  4 18 0.6672222222222223 3.789473684210526 0.08976721676453062\n",
      "i, j, eps_1, eps_2, hbar =  4 19 0.6672222222222223 4.0 0.08411531127018627\n",
      "i, j, eps_1, eps_2, hbar =  5 0 0.8337777777777778 0.0 1.2324668495860345\n",
      "i, j, eps_1, eps_2, hbar =  5 1 0.8337777777777778 0.21052631578947367 1.06302421406384\n",
      "i, j, eps_1, eps_2, hbar =  5 2 0.8337777777777778 0.42105263157894735 0.8637491806446834\n",
      "i, j, eps_1, eps_2, hbar =  5 3 0.8337777777777778 0.631578947368421 0.6970113938240019\n",
      "i, j, eps_1, eps_2, hbar =  5 4 0.8337777777777778 0.8421052631578947 0.5635464991244941\n",
      "i, j, eps_1, eps_2, hbar =  5 5 0.8337777777777778 1.0526315789473684 0.45789777597266246\n",
      "i, j, eps_1, eps_2, hbar =  5 6 0.8337777777777778 1.263157894736842 0.3746803915375884\n",
      "i, j, eps_1, eps_2, hbar =  5 7 0.8337777777777778 1.4736842105263157 0.30935941316771803\n",
      "i, j, eps_1, eps_2, hbar =  5 8 0.8337777777777778 1.6842105263157894 0.258204475267714\n",
      "i, j, eps_1, eps_2, hbar =  5 9 0.8337777777777778 1.894736842105263 0.21816528445974168\n",
      "i, j, eps_1, eps_2, hbar =  5 10 0.8337777777777778 2.1052631578947367 0.18677239641619042\n",
      "i, j, eps_1, eps_2, hbar =  5 11 0.8337777777777778 2.3157894736842106 0.16204628374969623\n",
      "i, j, eps_1, eps_2, hbar =  5 12 0.8337777777777778 2.526315789473684 0.1424316359148032\n",
      "i, j, eps_1, eps_2, hbar =  5 13 0.8337777777777778 2.7368421052631575 0.1267221324370929\n",
      "i, j, eps_1, eps_2, hbar =  5 14 0.8337777777777778 2.9473684210526314 0.11399485188165025\n",
      "i, j, eps_1, eps_2, hbar =  5 15 0.8337777777777778 3.1578947368421053 0.10356168479961228\n",
      "i, j, eps_1, eps_2, hbar =  5 16 0.8337777777777778 3.3684210526315788 0.094880259566327\n",
      "i, j, eps_1, eps_2, hbar =  5 17 0.8337777777777778 3.578947368421052 0.08756001537602066\n",
      "i, j, eps_1, eps_2, hbar =  5 18 0.8337777777777778 3.789473684210526 0.08132700177894396\n",
      "i, j, eps_1, eps_2, hbar =  5 19 0.8337777777777778 4.0 0.07595541941042691\n",
      "i, j, eps_1, eps_2, hbar =  6 0 1.0003333333333333 0.0 1.2324668495860345\n",
      "i, j, eps_1, eps_2, hbar =  6 1 1.0003333333333333 0.21052631578947367 1.0791690423198808\n",
      "i, j, eps_1, eps_2, hbar =  6 2 1.0003333333333333 0.42105263157894735 0.8850632542599455\n",
      "i, j, eps_1, eps_2, hbar =  6 3 1.0003333333333333 0.631578947368421 0.7161222004892541\n",
      "i, j, eps_1, eps_2, hbar =  6 4 1.0003333333333333 0.8421052631578947 0.5779515580783161\n",
      "i, j, eps_1, eps_2, hbar =  6 5 1.0003333333333333 1.0526315789473684 0.46727395227316554\n",
      "i, j, eps_1, eps_2, hbar =  6 6 1.0003333333333333 1.263157894736842 0.37953179031373063\n",
      "i, j, eps_1, eps_2, hbar =  6 7 1.0003333333333333 1.4736842105263157 0.3104494342466041\n",
      "i, j, eps_1, eps_2, hbar =  6 8 1.0003333333333333 1.6842105263157894 0.2563245696966713\n",
      "i, j, eps_1, eps_2, hbar =  6 9 1.0003333333333333 1.894736842105263 0.21404253742130813\n",
      "i, j, eps_1, eps_2, hbar =  6 10 1.0003333333333333 2.1052631578947367 0.1810329891952631\n",
      "i, j, eps_1, eps_2, hbar =  6 11 1.0003333333333333 2.3157894736842106 0.15519870421660822\n",
      "i, j, eps_1, eps_2, hbar =  6 12 1.0003333333333333 2.526315789473684 0.134876150588455\n",
      "i, j, eps_1, eps_2, hbar =  6 13 1.0003333333333333 2.7368421052631575 0.1187872541154846\n",
      "i, j, eps_1, eps_2, hbar =  6 14 1.0003333333333333 2.9473684210526314 0.10588905151436204\n",
      "i, j, eps_1, eps_2, hbar =  6 15 1.0003333333333333 3.1578947368421053 0.09544073614791407\n",
      "i, j, eps_1, eps_2, hbar =  6 16 1.0003333333333333 3.3684210526315788 0.08686077380365773\n",
      "i, j, eps_1, eps_2, hbar =  6 17 1.0003333333333333 3.578947368421052 0.0797234061938005\n",
      "i, j, eps_1, eps_2, hbar =  6 18 1.0003333333333333 3.789473684210526 0.07370477830195767\n",
      "i, j, eps_1, eps_2, hbar =  6 19 1.0003333333333333 4.0 0.06856730006847228\n",
      "i, j, eps_1, eps_2, hbar =  7 0 1.1668888888888889 0.0 1.2324668495860345\n",
      "i, j, eps_1, eps_2, hbar =  7 1 1.1668888888888889 0.21052631578947367 1.092480971317111\n",
      "i, j, eps_1, eps_2, hbar =  7 2 1.1668888888888889 0.42105263157894735 0.9042962159538448\n",
      "i, j, eps_1, eps_2, hbar =  7 3 1.1668888888888889 0.631578947368421 0.7347241941118456\n",
      "i, j, eps_1, eps_2, hbar =  7 4 1.1668888888888889 0.8421052631578947 0.5930514189983341\n",
      "i, j, eps_1, eps_2, hbar =  7 5 1.1668888888888889 1.0526315789473684 0.47804603459385353\n",
      "i, j, eps_1, eps_2, hbar =  7 6 1.1668888888888889 1.263157894736842 0.38610894448063254\n",
      "i, j, eps_1, eps_2, hbar =  7 7 1.1668888888888889 1.4736842105263157 0.3133599584147181\n",
      "i, j, eps_1, eps_2, hbar =  7 8 1.1668888888888889 1.6842105263157894 0.2562232092970362\n",
      "i, j, eps_1, eps_2, hbar =  7 9 1.1668888888888889 1.894736842105263 0.21158596241831473\n",
      "i, j, eps_1, eps_2, hbar =  7 10 1.1668888888888889 2.1052631578947367 0.17680983591904093\n",
      "i, j, eps_1, eps_2, hbar =  7 11 1.1668888888888889 2.3157894736842106 0.14972147164026547\n",
      "i, j, eps_1, eps_2, hbar =  7 12 1.1668888888888889 2.526315789473684 0.1285628637064726\n",
      "i, j, eps_1, eps_2, hbar =  7 13 1.1668888888888889 2.7368421052631575 0.11194592035179696\n",
      "i, j, eps_1, eps_2, hbar =  7 14 1.1668888888888889 2.9473684210526314 0.09877900606497296\n",
      "i, j, eps_1, eps_2, hbar =  7 15 1.1668888888888889 3.1578947368421053 0.08823775022553394\n",
      "i, j, eps_1, eps_2, hbar =  7 16 1.1668888888888889 3.3684210526315788 0.07968861118903273\n",
      "i, j, eps_1, eps_2, hbar =  7 17 1.1668888888888889 3.578947368421052 0.07266266592565862\n",
      "i, j, eps_1, eps_2, hbar =  7 18 1.1668888888888889 3.789473684210526 0.0668094150763313\n",
      "i, j, eps_1, eps_2, hbar =  7 19 1.1668888888888889 4.0 0.06186721135992965\n",
      "i, j, eps_1, eps_2, hbar =  8 0 1.3334444444444444 0.0 1.2324668495860345\n",
      "i, j, eps_1, eps_2, hbar =  8 1 1.3334444444444444 0.21052631578947367 1.1034827841103871\n",
      "i, j, eps_1, eps_2, hbar =  8 2 1.3334444444444444 0.42105263157894735 0.9214093095136751\n",
      "i, j, eps_1, eps_2, hbar =  8 3 1.3334444444444444 0.631578947368421 0.7523331630244523\n",
      "i, j, eps_1, eps_2, hbar =  8 4 1.3334444444444444 0.8421052631578947 0.6082154019119962\n",
      "i, j, eps_1, eps_2, hbar =  8 5 1.3334444444444444 1.0526315789473684 0.4896187171745829\n",
      "i, j, eps_1, eps_2, hbar =  8 6 1.3334444444444444 1.263157894736842 0.39391450332227373\n",
      "i, j, eps_1, eps_2, hbar =  8 7 1.3334444444444444 1.4736842105263157 0.3176992002900243\n",
      "i, j, eps_1, eps_2, hbar =  8 8 1.3334444444444444 1.6842105263157894 0.25760421655466936\n",
      "i, j, eps_1, eps_2, hbar =  8 9 1.3334444444444444 1.894736842105263 0.21056995928015654\n",
      "i, j, eps_1, eps_2, hbar =  8 10 1.3334444444444444 2.1052631578947367 0.17394413750788734\n",
      "i, j, eps_1, eps_2, hbar =  8 11 1.3334444444444444 2.3157894736842106 0.1454898501778587\n",
      "i, j, eps_1, eps_2, hbar =  8 12 1.3334444444444444 2.526315789473684 0.12338022614783521\n",
      "i, j, eps_1, eps_2, hbar =  8 13 1.3334444444444444 2.7368421052631575 0.10613672194902786\n",
      "i, j, eps_1, eps_2, hbar =  8 14 1.3334444444444444 2.9473684210526314 0.09260304339479927\n",
      "i, j, eps_1, eps_2, hbar =  8 15 1.3334444444444444 3.1578947368421053 0.08188445999045005\n",
      "i, j, eps_1, eps_2, hbar =  8 16 1.3334444444444444 3.3684210526315788 0.07329733277577419\n",
      "i, j, eps_1, eps_2, hbar =  8 17 1.3334444444444444 3.578947368421052 0.06632916145899799\n",
      "i, j, eps_1, eps_2, hbar =  8 18 1.3334444444444444 3.789473684210526 0.060596536517389485\n",
      "i, j, eps_1, eps_2, hbar =  8 19 1.3334444444444444 4.0 0.05581357133135045\n",
      "i, j, eps_1, eps_2, hbar =  9 0 1.5 0.0 1.2324668495860345\n",
      "i, j, eps_1, eps_2, hbar =  9 1 1.5 0.21052631578947367 1.1126507706350837\n",
      "i, j, eps_1, eps_2, hbar =  9 2 1.5 0.42105263157894735 0.9365892451553445\n",
      "i, j, eps_1, eps_2, hbar =  9 3 1.5 0.631578947368421 0.7687918858263787\n",
      "i, j, eps_1, eps_2, hbar =  9 4 1.5 0.8421052631578947 0.623110773495182\n",
      "i, j, eps_1, eps_2, hbar =  9 5 1.5 1.0526315789473684 0.5016201742397978\n",
      "i, j, eps_1, eps_2, hbar =  9 6 1.5 1.263157894736842 0.4026133823592029\n",
      "i, j, eps_1, eps_2, hbar =  9 7 1.5 1.4736842105263157 0.3231985538144545\n",
      "i, j, eps_1, eps_2, hbar =  9 8 1.5 1.6842105263157894 0.2602651169527561\n",
      "i, j, eps_1, eps_2, hbar =  9 9 1.5 1.894736842105263 0.2108536188416265\n",
      "i, j, eps_1, eps_2, hbar =  9 10 1.5 2.1052631578947367 0.17233484701642815\n"
     ]
    },
    {
     "name": "stdout",
     "output_type": "stream",
     "text": [
      "i, j, eps_1, eps_2, hbar =  9 11 1.5 2.3157894736842106 0.14244187985253645\n",
      "i, j, eps_1, eps_2, hbar =  9 12 1.5 2.526315789473684 0.11928489399275669\n",
      "i, j, eps_1, eps_2, hbar =  9 13 1.5 2.7368421052631575 0.10132769111101264\n",
      "i, j, eps_1, eps_2, hbar =  9 14 1.5 2.9473684210526314 0.08734233175550232\n",
      "i, j, eps_1, eps_2, hbar =  9 15 1.5 3.1578947368421053 0.07637205978458927\n",
      "i, j, eps_1, eps_2, hbar =  9 16 1.5 3.3684210526315788 0.0676850291134402\n",
      "i, j, eps_1, eps_2, hbar =  9 17 1.5 3.578947368421052 0.06072158798706132\n",
      "i, j, eps_1, eps_2, hbar =  9 18 1.5 3.789473684210526 0.055064592402892465\n",
      "i, j, eps_1, eps_2, hbar =  9 19 1.5 4.0 0.05040484281856457\n"
     ]
    }
   ],
   "source": [
    "eps_1_min = 0.001\n",
    "eps_1_max = 1.5\n",
    "eps_1_num = 10\n",
    "\n",
    "eps_2_min = 0.0\n",
    "eps_2_max = 4.0\n",
    "eps_2_num = 20\n",
    "\n",
    "eps_1_values = linspace(eps_1_min, eps_1_max, num=eps_1_num)\n",
    "eps_2_values = linspace(eps_2_min, eps_2_max, num=eps_2_num)\n",
    "h_bar = zeros((eps_1_num, eps_2_num))\n",
    "\n",
    "for i, eps_1 in enumerate(eps_1_values):\n",
    "    for j, eps_2 in enumerate(eps_2_values):\n",
    "        h_bar[i,j] = tplquad(h_integrand, z_0, z_1, lambda r:   y_0, lambda r:   y_1,\n",
    "                                                    lambda r,t: xi_0, lambda r,t: xi_1,\n",
    "                                                    args=(eps_1, eps_2), epsabs=1.0e-4, epsrel=1.0e-4)[0]\n",
    "        print('i, j, eps_1, eps_2, hbar = ',i, j, eps_1, eps_2, h_bar[i,j])"
   ]
  },
  {
   "cell_type": "markdown",
   "metadata": {},
   "source": [
    "#### save"
   ]
  },
  {
   "cell_type": "code",
   "execution_count": 55,
   "metadata": {},
   "outputs": [
    {
     "name": "stdout",
     "output_type": "stream",
     "text": [
      "[[1.23246685 0.95310176 0.77971284 0.6489205  0.54675997 0.46596079\n",
      "  0.40164385 0.35015839 0.30866369 0.27493313 0.24724033 0.2242636\n",
      "  0.20498744 0.18863889 0.17463297 0.16252015 0.15194518 0.14264912\n",
      "  0.1344139  0.12707202]\n",
      " [1.23246685 0.96559452 0.78090127 0.64359485 0.53698435 0.45304138\n",
      "  0.38656241 0.33369625 0.29143793 0.2574217  0.22979467 0.20712047\n",
      "  0.18830012 0.17249918 0.15908707 0.14757823 0.13760843 0.12889436\n",
      "  0.12121743 0.11440501]\n",
      " [1.23246685 0.9928378  0.79576948 0.64900051 0.53578909 0.44713809\n",
      "  0.37731503 0.32214312 0.27838768 0.24349524 0.21546031 0.19271348\n",
      "  0.17405355 0.15856417 0.14555336 0.13449806 0.12500097 0.1167627\n",
      "  0.1095527  0.10318954]\n",
      " [1.23246685 1.02001301 0.81728866 0.66156504 0.54100528 0.44677412\n",
      "  0.3728112  0.31465028 0.26881656 0.2325675  0.20372499 0.18058465\n",
      "  0.16182689 0.14644319 0.13366963 0.12293378 0.11380201 0.10594981\n",
      "  0.09912815 0.093149  ]\n",
      " [1.23246685 1.04347646 0.84077857 0.6783197  0.55079575 0.4507327\n",
      "  0.37219552 0.31058002 0.26223438 0.2242372  0.19425533 0.1704415\n",
      "  0.15135507 0.13589132 0.12320794 0.112673   0.10381029 0.09626465\n",
      "  0.08976722 0.08411531]\n",
      " [1.23246685 1.06302421 0.86374918 0.69701139 0.5635465  0.45789778\n",
      "  0.37468039 0.30935941 0.25820448 0.21816528 0.1867724  0.16204628\n",
      "  0.14243164 0.12672213 0.11399485 0.10356168 0.09488026 0.08756002\n",
      "  0.081327   0.07595542]\n",
      " [1.23246685 1.07916904 0.88506325 0.7161222  0.57795156 0.46727395\n",
      "  0.37953179 0.31044943 0.25632457 0.21404254 0.18103299 0.1551987\n",
      "  0.13487615 0.11878725 0.10588905 0.09544074 0.08686077 0.07972341\n",
      "  0.07370478 0.0685673 ]\n",
      " [1.23246685 1.09248097 0.90429622 0.73472419 0.59305142 0.47804603\n",
      "  0.38610894 0.31335996 0.25622321 0.21158596 0.17680984 0.14972147\n",
      "  0.12856286 0.11194592 0.09877901 0.08823775 0.07968861 0.07266267\n",
      "  0.06680942 0.06186721]\n",
      " [1.23246685 1.10348278 0.92140931 0.75233316 0.6082154  0.48961872\n",
      "  0.3939145  0.3176992  0.25760422 0.21056996 0.17394414 0.14548985\n",
      "  0.12338023 0.10613672 0.09260304 0.08188446 0.07329733 0.06632916\n",
      "  0.06059654 0.05581357]\n",
      " [1.23246685 1.11265077 0.93658925 0.76879189 0.62311077 0.50162017\n",
      "  0.40261338 0.32319855 0.26026512 0.21085362 0.17233485 0.14244188\n",
      "  0.11928489 0.10132769 0.08734233 0.07637206 0.06768503 0.06072159\n",
      "  0.05506459 0.05040484]]\n"
     ]
    }
   ],
   "source": [
    "print(h_bar)\n",
    "savez('hbar.npz', eps_1_values=eps_1_values, eps_2_values=eps_2_values, h_bar=h_bar)"
   ]
  },
  {
   "cell_type": "markdown",
   "metadata": {},
   "source": [
    "#### load"
   ]
  },
  {
   "cell_type": "code",
   "execution_count": 147,
   "metadata": {},
   "outputs": [
    {
     "name": "stdout",
     "output_type": "stream",
     "text": [
      "dict_keys(['eps_1_values', 'eps_2_values', 'h_bar'])\n"
     ]
    }
   ],
   "source": [
    "data = load('hbar.npz',)\n",
    "data_dict = {}\n",
    "for attribute, value in data.items():\n",
    "    data_dict[attribute] = value.tolist()\n",
    "print(data_dict.keys())\n",
    "\n",
    "# eps_1_values = data_dict['eps_1_values']\n",
    "# eps_2_values = data_dict['eps_2_values']\n",
    "# h_bar = data_dict['h_bar']"
   ]
  },
  {
   "cell_type": "markdown",
   "metadata": {},
   "source": [
    "### curve fit $\\bar{h}(\\epsilon_2)$"
   ]
  },
  {
   "cell_type": "code",
   "execution_count": 146,
   "metadata": {},
   "outputs": [
    {
     "name": "stdout",
     "output_type": "stream",
     "text": [
      "a =  1.2241711413962373  +-  0.011604791263219585\n",
      "b =  2.539920755527743  +-  0.04520821772513288\n"
     ]
    },
    {
     "data": {
      "text/plain": [
       "<matplotlib.legend.Legend at 0x7fda805427c0>"
      ]
     },
     "execution_count": 146,
     "metadata": {},
     "output_type": "execute_result"
    },
    {
     "data": {
      "image/png": "[encoded data removed]",
      "text/plain": [
       "<Figure size 432x288 with 1 Axes>"
      ]
     },
     "metadata": {
      "needs_background": "light"
     },
     "output_type": "display_data"
    }
   ],
   "source": [
    "x2_data, x1_data = meshgrid(eps_2_values, eps_1_values)\n",
    "y_data = h_bar.flatten()\n",
    "x_data = x2_data.flatten()\n",
    "\n",
    "def func(x, a, b):\n",
    "    y = a / sqrt(1 + b**2 * x**2)\n",
    "    return y\n",
    "\n",
    "popt, pcov = curve_fit(func, x_data, y_data)\n",
    "print('a = ', popt[0], ' +- ', sqrt(pcov[0,0]))\n",
    "print('b = ', popt[1], ' +- ', sqrt(pcov[1,1]))\n",
    "\n",
    "plt.figure\n",
    "for i, eps_1 in enumerate(eps_1_values):\n",
    "    plt.plot(x2_data[i,:], h_bar[i,:], 'k-', label='eps_1 = %5.3f' % eps_1, linewidth=0.5)\n",
    "plt.plot(x2_data[0,:], func(x2_data[0,:], *popt), 'r-', label='fit: a=%5.3f, b=%5.3f' % tuple(popt), linewidth=4)\n",
    "plt.xlabel(r'$\\epsilon_2$', fontsize=14)\n",
    "plt.ylabel(r'$\\bar{h}(\\epsilon_1,\\epsilon_2)$', fontsize=14)\n",
    "plt.legend()"
   ]
  },
  {
   "cell_type": "markdown",
   "metadata": {},
   "source": [
    "### set up the calculation of $\\Delta \\bar{R}(\\epsilon_1,\\epsilon_2)$ and find $\\Delta \\bar{R}_o(\\epsilon_1)$"
   ]
  },
  {
   "cell_type": "code",
   "execution_count": 100,
   "metadata": {},
   "outputs": [],
   "source": [
    "from scipy import interpolate\n",
    "\n",
    "x2_data, x1_data = meshgrid(eps_2_values, eps_1_values)\n",
    "h_bar_interpolate = interpolate.interp2d(x1_data, x2_data, h_bar, kind='linear')\n",
    "\n",
    "def delta_r_bar(eps_s, eps_1):\n",
    "    value = exp(eps_s) * eps_s**(-2.5) * sqrt(2.0) * (2.0 * pi)**(1.5)\n",
    "    eps_2 = sqrt(eps_s) * eps_1\n",
    "    value *= h_bar_interpolate(eps_1, eps_2)\n",
    "    return value\n",
    "\n",
    "delta_r_bar_0 = zeros((eps_1_num))\n",
    "\n",
    "for i, eps_1 in enumerate(eps_1_values):\n",
    "    delta_r_bar_0[i] = delta_r_bar(eps_sm[i], eps_1)"
   ]
  },
  {
   "cell_type": "markdown",
   "metadata": {},
   "source": [
    "#### save"
   ]
  },
  {
   "cell_type": "code",
   "execution_count": 101,
   "metadata": {},
   "outputs": [
    {
     "name": "stdout",
     "output_type": "stream",
     "text": [
      "[46.84652714 34.70029488 26.72933812 21.43310882 15.99614771 12.18150111\n",
      "  9.02119834  6.82044769  5.12493967  3.72702863]\n"
     ]
    }
   ],
   "source": [
    "print(delta_r_bar_0)\n",
    "savez('DeltaRbar0.npz', eps_1_values=eps_1_values, delta_r_bar_0=delta_r_bar_0)"
   ]
  },
  {
   "cell_type": "markdown",
   "metadata": {},
   "source": [
    "#### plot"
   ]
  },
  {
   "cell_type": "code",
   "execution_count": 130,
   "metadata": {},
   "outputs": [
    {
     "data": {
      "image/png": "[encoded data removed]",
      "text/plain": [
       "<Figure size 432x288 with 1 Axes>"
      ]
     },
     "metadata": {
      "needs_background": "light"
     },
     "output_type": "display_data"
    }
   ],
   "source": [
    "fig, ax = plt.subplots()\n",
    "plt.plot(eps_1_values, delta_r_bar_0, 'ko',)\n",
    "plt.xlabel(r'$1 / \\rho_o$', fontsize=18)\n",
    "plt.ylabel(r'$\\Delta \\bar{R}_o(1 / \\rho_o)$', fontsize=18)\n",
    "plt.xlim([-0.02,1.52])\n",
    "plt.ylim([0.0,50])\n",
    "plt.xticks(fontsize=14)\n",
    "plt.yticks(fontsize=14)\n",
    "ax.set_aspect(0.025)\n",
    "ax.minorticks_on()\n",
    "ax.tick_params(which='major', length=10, width=2, direction='in')\n",
    "ax.tick_params(which='minor', length=5, width=2, direction='in')\n",
    "ax.xaxis.set_ticks_position('both')\n",
    "ax.yaxis.set_ticks_position('both')"
   ]
  },
  {
   "cell_type": "markdown",
   "metadata": {},
   "source": [
    "## The final value for flux, $\\Phi_b$ @ $\\rho_o = 2/3$"
   ]
  },
  {
   "cell_type": "code",
   "execution_count": 106,
   "metadata": {},
   "outputs": [
    {
     "name": "stdout",
     "output_type": "stream",
     "text": [
      "rho_0 =  0.6666666666666666\n",
      "Phi_b = n^2 v b^5 [(  0.08473964131819078  ) + (r_ce/b)(  2.485928093196495  )]\n"
     ]
    }
   ],
   "source": [
    "idx=9\n",
    "print('rho_0 = ', 1.0 / eps_1_values[idx])\n",
    "print('Phi_b = n^2 v b^5 [( ', rho_0 * r_bar_0[idx], ' ) + (r_ce/b)( ', rho_0 * delta_r_bar_0[idx], ' )]')"
   ]
  },
  {
   "cell_type": "code",
   "execution_count": null,
   "metadata": {},
   "outputs": [],
   "source": []
  }
 ],
 "metadata": {
  "kernelspec": {
   "display_name": "Python 3 (ipykernel)",
   "language": "python",
   "name": "python3"
  },
  "language_info": {
   "codemirror_mode": {
    "name": "ipython",
    "version": 3
   },
   "file_extension": ".py",
   "mimetype": "text/x-python",
   "name": "python",
   "nbconvert_exporter": "python",
   "pygments_lexer": "ipython3",
   "version": "3.8.12"
  }
 },
 "nbformat": 4,
 "nbformat_minor": 4
}

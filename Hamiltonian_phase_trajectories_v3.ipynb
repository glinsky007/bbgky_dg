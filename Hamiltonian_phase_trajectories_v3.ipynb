{
 "cells": [
  {
   "cell_type": "markdown",
   "metadata": {},
   "source": [
    "# Plot phase trajectories of ion and guiding center electron"
   ]
  },
  {
   "cell_type": "code",
   "execution_count": 1,
   "metadata": {},
   "outputs": [],
   "source": [
    "from os.path import expanduser, join\n",
    "import matplotlib.pyplot as plt\n",
    "from numpy import *\n",
    "import scipy\n",
    "from scipy.integrate import quad\n",
    "from scipy.interpolate import interp1d\n",
    "from scipy.optimize import root_scalar\n",
    "\n",
    "import warnings\n",
    "warnings.filterwarnings(\"ignore\")\n",
    "\n",
    "plt.rcParams[\"font.family\"] = \"Times New Roman\"  # options are \"Arial\",\"Times New Roman\"\n",
    "plt.rcParams[\"mathtext.fontset\"] = \"cm\"  # options are \"stix\",\"stixsans\",\"cm\""
   ]
  },
  {
   "cell_type": "markdown",
   "metadata": {},
   "source": [
    "## calculate the $g(\\eta)$ and $dg/d\\eta$ functions"
   ]
  },
  {
   "cell_type": "code",
   "execution_count": 2,
   "metadata": {},
   "outputs": [],
   "source": [
    "# limits for \\beta\n",
    "beta_0 = 0.0\n",
    "beta_1 = pi / 2.0\n",
    "\n",
    "# how to sample \\eta\n",
    "eta_min = 1.0e-10\n",
    "eta_max = 1.0\n",
    "eta_num = 1000\n",
    "\n",
    "def g_integrand(beta, eta):\n",
    "    value = sqrt( ((1.0 - eta) * sin(beta)**2 + eta) / \n",
    "                 ((1.0 - eta) * sin(beta)**2 + 2.0 * eta)) * cos(beta)**2\n",
    "    value *= 8.0 * sqrt(2.0)\n",
    "    return value\n",
    "\n",
    "def dg_deta_integrand(beta, eta):\n",
    "    value = sin(beta)**2 * cos(beta)**2\n",
    "    value /= ((1.0 - eta) * sin(beta)**2 + eta)**(0.5) * ((1.0 - eta) * sin(beta)**2 + 2.0 * eta)**(1.5)\n",
    "    value *= - 4.0 * sqrt(2.0)\n",
    "    return value"
   ]
  },
  {
   "cell_type": "code",
   "execution_count": 3,
   "metadata": {},
   "outputs": [
    {
     "name": "stdout",
     "output_type": "stream",
     "text": [
      "g_integrand(beta_0, eta_min) =  8.000000000000002\n",
      "g_integrand(beta_0, eta_max) =  8.000000000000002\n",
      "g_integrand(beta_1, eta_min) =  4.2419612496721506e-32\n",
      "g_integrand(beta_1, eta_max) =  2.999519565323716e-32\n",
      "g_integrand(beta_m, eta_m) =  4.381780459982907\n",
      "dg_deta_integrand(beta_0, eta_min) =  -0.0\n",
      "dg_deta_integrand(beta_0, eta_max) =  -0.0\n",
      "dg_deta_integrand(beta_1, eta_min) =  -2.1209806246239776e-32\n",
      "dg_deta_integrand(beta_1, eta_max) =  -7.498798913309288e-33\n",
      "dg_deta_integrand(beta_m, eta_m) =  -1.1684747892197171\n"
     ]
    }
   ],
   "source": [
    "print('g_integrand(beta_0, eta_min) = ', g_integrand(beta_0, eta_min))\n",
    "print('g_integrand(beta_0, eta_max) = ', g_integrand(beta_0, eta_max))\n",
    "print('g_integrand(beta_1, eta_min) = ', g_integrand(beta_1, eta_min))\n",
    "print('g_integrand(beta_1, eta_max) = ', g_integrand(beta_1, eta_max))\n",
    "print('g_integrand(beta_m, eta_m) = ', g_integrand((beta_0+beta_1)/2.0, (eta_min+eta_max)/2.0))\n",
    "\n",
    "print('dg_deta_integrand(beta_0, eta_min) = ', dg_deta_integrand(beta_0, eta_min))\n",
    "print('dg_deta_integrand(beta_0, eta_max) = ', dg_deta_integrand(beta_0, eta_max))\n",
    "print('dg_deta_integrand(beta_1, eta_min) = ', dg_deta_integrand(beta_1, eta_min))\n",
    "print('dg_deta_integrand(beta_1, eta_max) = ', dg_deta_integrand(beta_1, eta_max))\n",
    "print('dg_deta_integrand(beta_m, eta_m) = ', dg_deta_integrand((beta_0+beta_1)/2.0, (eta_min+eta_max)/2.0))"
   ]
  },
  {
   "cell_type": "code",
   "execution_count": 4,
   "metadata": {},
   "outputs": [
    {
     "name": "stdout",
     "output_type": "stream",
     "text": [
      "1.0 1.0000000000000002\n",
      "1.0 -0.0625\n"
     ]
    }
   ],
   "source": [
    "eta = eta_max\n",
    "g = quad(g_integrand, beta_0, beta_1, args=(eta))[0]\n",
    "print(eta, g/(2.0*pi))\n",
    "\n",
    "dg_deta = quad(dg_deta_integrand, beta_0, beta_1, args=(eta))[0]\n",
    "print(eta, dg_deta/(2.0*pi))"
   ]
  },
  {
   "cell_type": "code",
   "execution_count": 5,
   "metadata": {},
   "outputs": [
    {
     "name": "stdout",
     "output_type": "stream",
     "text": [
      "0.5393384592735758\n",
      "0.0625\n"
     ]
    }
   ],
   "source": [
    "eta_values = linspace(eta_min, eta_max, num=eta_num)\n",
    "g_values = zeros((eta_num))\n",
    "dg_deta_values = zeros((eta_num))\n",
    "\n",
    "for i, eta in enumerate(eta_values):\n",
    "    g_values[i] = quad(g_integrand, beta_0, beta_1, args=(eta))[0]\n",
    "    dg_deta_values[i] = quad(dg_deta_integrand, beta_0, beta_1, args=(eta))[0]\n",
    "    \n",
    "fig, ax = plt.subplots()\n",
    "dummy = plt.plot(eta_values, g_values/(2.0*pi))\n",
    "dummy = plt.title(r'$g(\\eta)$ function', fontsize=18)\n",
    "dummy = plt.xlabel(r'$\\eta$', fontsize=18)\n",
    "dummy = plt.ylabel(r'$g(\\eta) / 2 \\pi$', fontsize=18)\n",
    "dummy = plt.xticks(fontsize=18)\n",
    "dummy = plt.yticks(fontsize=18)\n",
    "\n",
    "fig, ax = plt.subplots()\n",
    "dummy = plt.plot(eta_values[1:-1], dg_deta_values[1:-1] /(2.0*pi))\n",
    "dummy = plt.title(r'$dg/d\\eta$ function', fontsize=18)\n",
    "dummy = plt.xlabel(r'$\\eta$', fontsize=18)\n",
    "dummy = plt.ylabel(r'$\\frac{d g}{d \\eta} / 2 \\pi$', fontsize=18)\n",
    "dummy = plt.xticks(fontsize=18)\n",
    "dummy = plt.yticks(fontsize=18)\n",
    "dummy = plt.ylim([-0.8,0.0])\n",
    "\n",
    "fig, ax = plt.subplots()\n",
    "dummy = plt.plot(eta_values[0:-1], - dg_deta_values[0:-1] * sqrt(eta_values[0:-1]) /(2.0*pi))\n",
    "dummy = plt.title(r'$dg/d\\eta$ function', fontsize=18)\n",
    "dummy = plt.xlabel(r'$\\eta$', fontsize=18)\n",
    "dummy = plt.ylabel(r'$- \\sqrt{\\eta} \\, \\left( \\frac{d g}{d \\eta} / 2 \\pi \\right)$', fontsize=18)\n",
    "dummy = plt.xticks(fontsize=18)\n",
    "dummy = plt.yticks(fontsize=18)\n",
    "\n",
    "print(-dg_deta_values[0] * sqrt(eta_values[0]) /(2.0*pi))\n",
    "print(-dg_deta_values[-1] * sqrt(eta_values[-1]) /(2.0*pi))"
   ]
  },
  {
   "cell_type": "code",
   "execution_count": 6,
   "metadata": {},
   "outputs": [
    {
     "name": "stdout",
     "output_type": "stream",
     "text": [
      "-338876.34829046065\n",
      "(8.885765877170313, 6.283185307179588)\n",
      "(8.885765876316732, 6.283185307179586)\n"
     ]
    }
   ],
   "source": [
    "print(dg_deta_values[0])\n",
    "print((g_values[0],g_values[-1]))\n",
    "print((2.0 * sqrt(2.0) * pi, 2.0 * pi))"
   ]
  },
  {
   "cell_type": "code",
   "execution_count": 7,
   "metadata": {},
   "outputs": [
    {
     "name": "stdout",
     "output_type": "stream",
     "text": [
      "1.4142135623730951\n",
      "-53933.84592735757\n",
      "-0.0625\n",
      "-53933.84592735757\n"
     ]
    }
   ],
   "source": [
    "g_interpolate = interp1d(eta_values, g_values, kind='linear', bounds_error = False, \n",
    "                               fill_value=(2.0 * sqrt(2.0) * pi, 2.0 * pi))\n",
    "dg_deta_sqrt_interpolate = interp1d(eta_values, dg_deta_values * sqrt(eta_values), kind='linear', bounds_error = False, \n",
    "                               fill_value=(dg_deta_values[0] * sqrt(eta_values[0]), dg_deta_values[-1] * sqrt(eta_values[-1])))\n",
    "def dg_deta_interpolate(eta):\n",
    "    value = dg_deta_sqrt_interpolate(eta) / sqrt(eta)\n",
    "    return value\n",
    "\n",
    "print(g_interpolate(0.0) / (2.0 * pi))\n",
    "print(dg_deta_interpolate(1.0e-10) / (2.0 * pi))\n",
    "print(dg_deta_interpolate(1.0) / (2.0 * pi))\n",
    "print(dg_deta_values[0] / (2.0 * pi))\n",
    "\n",
    "eta1_values = linspace(0.0, 1.0, num=10000)\n",
    "    \n",
    "fig, ax = plt.subplots()\n",
    "dummy = plt.plot(eta1_values, g_interpolate(eta1_values)/(2.0*pi))\n",
    "dummy = plt.title(r'$g(\\eta)$ function', fontsize=18)\n",
    "dummy = plt.xlabel(r'$\\eta$', fontsize=18)\n",
    "dummy = plt.ylabel(r'$g(\\eta) / 2 \\pi$', fontsize=18)\n",
    "dummy = plt.xticks(fontsize=18)\n",
    "dummy = plt.yticks(fontsize=18)\n",
    "# plt.xlim([-0.02,1.52])\n",
    "# plt.ylim([0.0,6.0])\n",
    "\n",
    "fig, ax = plt.subplots()\n",
    "dummy = plt.plot(eta1_values, dg_deta_interpolate(eta1_values)/(2.0*pi))\n",
    "dummy = plt.title(r'$dg/d\\eta$ function', fontsize=18)\n",
    "dummy = plt.xlabel(r'$\\eta$', fontsize=18)\n",
    "dummy = plt.ylabel(r'$\\frac{d g}{d \\eta} / 2 \\pi$', fontsize=18)\n",
    "dummy = plt.xticks(fontsize=18)\n",
    "dummy = plt.yticks(fontsize=18)\n",
    "# dummy = plt.ylim([-0.8,0.0]) "
   ]
  },
  {
   "cell_type": "markdown",
   "metadata": {},
   "source": [
    "## calculate the $\\eta(y)$ and $d\\eta/dy$ functions"
   ]
  },
  {
   "cell_type": "code",
   "execution_count": 8,
   "metadata": {},
   "outputs": [
    {
     "name": "stdout",
     "output_type": "stream",
     "text": [
      "0.03343339676087331\n"
     ]
    }
   ],
   "source": [
    "def eta_root(eta, y):\n",
    "    value = (1.0 - y) / (1.0 - eta)\n",
    "    value *= sqrt(eta / y)\n",
    "    value -= g_interpolate(eta) / g_interpolate(1.0)\n",
    "    return value\n",
    "\n",
    "print(eta_root(0.001,0.0005))"
   ]
  },
  {
   "cell_type": "code",
   "execution_count": 9,
   "metadata": {},
   "outputs": [
    {
     "name": "stdout",
     "output_type": "stream",
     "text": [
      "(0.9, 0.9006277832253778)\n"
     ]
    }
   ],
   "source": [
    "y_value = 0.9\n",
    "\n",
    "eta_value = root_scalar(eta_root, bracket=(0.000001,0.999999),\n",
    "                        args=(y_value), method='bisect').root\n",
    "\n",
    "print((y_value, eta_value))"
   ]
  },
  {
   "cell_type": "code",
   "execution_count": 10,
   "metadata": {},
   "outputs": [],
   "source": [
    "# how to sample y\n",
    "small_number = 1.0e-8\n",
    "y_min = small_number\n",
    "y_max = 1.0 - small_number\n",
    "y_num = 1000\n",
    "\n",
    "y_values = linspace(y_min, y_max, num=y_num)\n",
    "eta2_values = zeros((y_num))\n",
    "deta_dy_values = zeros((y_num))\n",
    "\n",
    "for i, y_value in enumerate(y_values):\n",
    "    eta2_values[i] = root_scalar(eta_root, bracket=(0.1 * small_number,1.0 - 0.1 * small_number),\n",
    "                            args=(y_value), method='bisect').root\n",
    "    eta = eta2_values[i]\n",
    "    deta_dy_values[i] = (eta / y_value)**(1.5)\n",
    "    deta_dy_values[i] *= (1.0 + y_value) * g_interpolate(1.0) / 2.0\n",
    "    deta_dy_values[i] /= (1.0 + eta) * g_interpolate(eta) / 2.0 - eta * (1.0 - eta) * dg_deta_interpolate(eta)\n",
    "    \n",
    "fig, ax = plt.subplots()\n",
    "dummy = plt.plot(y_values, eta2_values)\n",
    "dummy = plt.title(r'$\\eta(y)$ function', fontsize=18)\n",
    "dummy = plt.xlabel(r'$y$', fontsize=18)\n",
    "dummy = plt.ylabel(r'$\\eta(y)$', fontsize=18)\n",
    "dummy = plt.xticks(fontsize=18)\n",
    "dummy = plt.yticks(fontsize=18)\n",
    "  \n",
    "fig, ax = plt.subplots()\n",
    "dummy = plt.plot(y_values, deta_dy_values)\n",
    "dummy = plt.title(r'$d \\eta / dy$ function', fontsize=18)\n",
    "dummy = plt.xlabel(r'$y$', fontsize=18)\n",
    "dummy = plt.ylabel(r'$d \\eta / dy$', fontsize=18)\n",
    "dummy = plt.xticks(fontsize=18)\n",
    "dummy = plt.yticks(fontsize=18)\n",
    "dummy = plt.ylim([0.0,2.0])\n"
   ]
  },
  {
   "cell_type": "code",
   "execution_count": 11,
   "metadata": {},
   "outputs": [
    {
     "name": "stdout",
     "output_type": "stream",
     "text": [
      "1.999934428203778\n",
      "1.9999999999999991\n",
      "1.9996868460176143\n"
     ]
    }
   ],
   "source": [
    "print(eta2_values[0]/y_values[0])\n",
    "print((g_interpolate(0.0)/g_interpolate(1.0))**2)\n",
    "print(deta_dy_values[0])"
   ]
  },
  {
   "cell_type": "code",
   "execution_count": 12,
   "metadata": {},
   "outputs": [
    {
     "name": "stdout",
     "output_type": "stream",
     "text": [
      "0.0\n",
      "1.0\n"
     ]
    }
   ],
   "source": [
    "eta_interpolate = interp1d(y_values, eta2_values, kind='linear', bounds_error = False, \n",
    "                               fill_value=(0.0, 1.0))\n",
    "\n",
    "deta_dy_interpolate = interp1d(y_values, deta_dy_values, kind='linear', bounds_error = False, \n",
    "                               fill_value=(2.0, 1.0))\n",
    "\n",
    "def deta_dy_interpolate(y_value):\n",
    "    eta = eta_interpolate(y_value)\n",
    "    value = (eta / y_value)**(1.5)\n",
    "    value *= (1.0 + y_value) * g_interpolate(1.0) / 2.0\n",
    "    value /= (1.0 + eta) * g_interpolate(eta) / 2.0 - eta * (1.0 - eta) * dg_deta_interpolate(eta)\n",
    "    return value\n",
    "\n",
    "print(eta_interpolate(0.0))\n",
    "print(eta_interpolate(1.0))\n",
    "\n",
    "y1_values = linspace(small_number, 1.0, num=10000)\n",
    "    \n",
    "fig, ax = plt.subplots()\n",
    "dummy = plt.plot(y1_values, eta_interpolate(y1_values))\n",
    "dummy = plt.title(r'$\\eta(y)$ function', fontsize=18)\n",
    "dummy = plt.xlabel(r'$y$', fontsize=18)\n",
    "dummy = plt.ylabel(r'$\\eta(y)$', fontsize=18)\n",
    "dummy = plt.xticks(fontsize=18)\n",
    "dummy = plt.yticks(fontsize=18)\n",
    "  \n",
    "fig, ax = plt.subplots()\n",
    "dummy = plt.plot(y1_values, deta_dy_interpolate(y1_values))\n",
    "dummy = plt.title(r'$d \\eta / dy$ function', fontsize=18)\n",
    "dummy = plt.xlabel(r'$y$', fontsize=18)\n",
    "dummy = plt.ylabel(r'$d \\eta / dy$', fontsize=18)\n",
    "dummy = plt.xticks(fontsize=18)\n",
    "dummy = plt.yticks(fontsize=18)\n",
    "dummy = plt.ylim([0.0,2.2])\n"
   ]
  },
  {
   "cell_type": "markdown",
   "metadata": {},
   "source": [
    "## calculate the separatrix and phase space tragectories"
   ]
  },
  {
   "cell_type": "markdown",
   "metadata": {},
   "source": [
    "### set up the needed functions"
   ]
  },
  {
   "cell_type": "code",
   "execution_count": 13,
   "metadata": {},
   "outputs": [
    {
     "name": "stdout",
     "output_type": "stream",
     "text": [
      "1.0\n",
      "3.94783864348907e-07\n",
      "252752.8723691953\n"
     ]
    }
   ],
   "source": [
    "def y_A_function(a_value):\n",
    "    value = a_value / (2.0 * g_interpolate(1.0))\n",
    "    value -= sqrt((a_value / (2.0 * g_interpolate(1.0)))**2 + 1)\n",
    "    value *= value\n",
    "    return value\n",
    "\n",
    "def h_function(action_z, rho, psi):\n",
    "    # input Jz / 2 pi for action_z\n",
    "    a = 2.0 * pi * action_z / sqrt(rho)\n",
    "    value = rho * sin(psi)\n",
    "    value -= eta_interpolate(y_A_function(a)) / rho\n",
    "    return value\n",
    "\n",
    "def dpsi_dt_function(action_z, rho, psi):\n",
    "    # input Jz / 2 pi for action_z\n",
    "    a = 2.0 * pi * action_z / sqrt(rho)\n",
    "    y = y_A_function(a)\n",
    "    dydA = - 2.0 * y**(1.5) / (1+y) / g_interpolate(1.0)\n",
    "    \n",
    "    value = sin(psi) / rho\n",
    "    value += (eta_interpolate(y) + 0.5 * a * deta_dy_interpolate(y) * dydA) / rho**3\n",
    "    return value\n",
    "\n",
    "def dh_drho_function(action_z, rho, psi):\n",
    "    # input Jz / 2 pi for action_z\n",
    "    a = 2.0 * pi * action_z / sqrt(rho)\n",
    "    y = y_A_function(a)\n",
    "    dydA = - 2.0 * y**(1.5) / (1+y) / g_interpolate(1.0)\n",
    "#     print('eta = ', eta_interpolate(y))\n",
    "#     print('a = ',a)\n",
    "#     print('dy/dA = ',dydA)\n",
    "#     print('deta/dy = ', deta_dy_interpolate(y))\n",
    "#     print('A/2 deta/dA = ', 0.5 * a * deta_dy_interpolate(y) * dydA)\n",
    "#     print('1/rho^2 = ', 1.0 / rho**2)\n",
    "    \n",
    "    value = sin(psi)\n",
    "    value += (eta_interpolate(y) + 0.5 * a * deta_dy_interpolate(y) * dydA) / rho**2\n",
    "    return value\n",
    "    \n",
    "def separatrix_function(rho, action_z):\n",
    "    # input Jz / 2 pi for action_z\n",
    "    value = dh_drho_function(action_z, rho, - pi / 2.0)\n",
    "    return value\n",
    "\n",
    "print(y_A_function(0.0))\n",
    "print(y_A_function(10000.0))\n",
    "print(separatrix_function(0.000001,0.5))"
   ]
  },
  {
   "cell_type": "code",
   "execution_count": 14,
   "metadata": {},
   "outputs": [
    {
     "name": "stdout",
     "output_type": "stream",
     "text": [
      "0.11864933001404901\n"
     ]
    }
   ],
   "source": [
    "action_z = 1.5\n",
    "\n",
    "# how to sample \\action\n",
    "rho_min = 1.0e-6\n",
    "rho_max = 1.0\n",
    "rho_num = 1000\n",
    "\n",
    "rho_values = linspace(rho_min, rho_max, num=rho_num)\n",
    "\n",
    "# how to sample \\action\n",
    "action_z_tpi_min = 0.0\n",
    "action_z_tpi_max = 3.0\n",
    "action_z_tpi_num = 1000\n",
    "\n",
    "fig, ax = plt.subplots()\n",
    "dummy = plt.plot(rho_values, separatrix_function(rho_values, action_z))\n",
    "dummy = plt.title(r'$\\frac{\\partial H}{\\partial \\rho}$ function for $J_z / 2 \\pi =$ %3.1f' % action_z, fontsize=18)\n",
    "dummy = plt.xlabel(r'$\\rho$', fontsize=18)\n",
    "dummy = plt.ylabel(r'$\\frac{\\partial H}{\\partial \\rho}$', fontsize=18)\n",
    "dummy = plt.xticks(fontsize=18)\n",
    "dummy = plt.yticks(fontsize=18)\n",
    "dummy = plt.ylim([-1.0,1.0])\n",
    "\n",
    "rho_separatrix = root_scalar(separatrix_function, bracket=(rho_min,rho_max),\n",
    "                        args=(action_z), method='bisect').root\n",
    "\n",
    "print(rho_separatrix)"
   ]
  },
  {
   "cell_type": "markdown",
   "metadata": {},
   "source": [
    "### calculate the radius, $\\rho_s$, and energy, $H_s$, of the separatrix"
   ]
  },
  {
   "cell_type": "code",
   "execution_count": 15,
   "metadata": {},
   "outputs": [],
   "source": [
    "action_values = linspace(action_z_tpi_min, action_z_tpi_max, num=action_z_tpi_num)\n",
    "rho_s_values = zeros((action_z_tpi_num))\n",
    "h_s_values = zeros((action_z_tpi_num))\n",
    "h_min_values = zeros((action_z_tpi_num))\n",
    "\n",
    "for i, action_z_tpi in enumerate(action_values):\n",
    "    rho_s_values[i] = root_scalar(separatrix_function, bracket=(rho_min,rho_max),\n",
    "                            args=(action_z_tpi), method='bisect').root\n",
    "    h_s_values[i] = h_function(action_z_tpi, rho_s_values[i], - pi / 2.0)\n",
    "    h_min_values[i] = - 2.0 / action_z_tpi**2\n",
    "\n",
    "fig, ax = plt.subplots()\n",
    "dummy = plt.plot(action_values, rho_s_values)\n",
    "dummy = plt.title('radius of separatrix', fontsize=18)\n",
    "dummy = plt.xlabel(r'$\\bar{J}_z \\, \\frac{\\epsilon^{1/2}}{2 \\pi}$', fontsize=20)\n",
    "dummy = plt.ylabel(r'$\\bar{\\rho}_s \\, \\epsilon$', fontsize=20)\n",
    "dummy = plt.xticks(fontsize=18)\n",
    "dummy = plt.yticks(fontsize=18)\n",
    "dummy = plt.xlim([0.0,3.0])\n",
    "dummy = plt.ylim([0.0,1.0])\n",
    "\n",
    "ig, ax = plt.subplots()\n",
    "dummy = plt.plot(action_values, h_s_values, label='separtrix')\n",
    "dummy = plt.plot(action_values, h_min_values, label='minimum')\n",
    "dummy = plt.title('energy of separatrix', fontsize=18)\n",
    "dummy = plt.xlabel(r'$\\bar{J}_z \\, \\frac{\\epsilon^{1/2}}{2 \\pi}$', fontsize=20)\n",
    "dummy = plt.ylabel(r'$\\bar{H}_s / \\epsilon$', fontsize=20)\n",
    "dummy = plt.xticks(fontsize=18)\n",
    "dummy = plt.yticks(fontsize=18)\n",
    "dummy = plt.xlim([0.0,3.0])\n",
    "dummy = plt.ylim([-3.0,0.0])\n",
    "dummy = plt.legend"
   ]
  },
  {
   "cell_type": "markdown",
   "metadata": {},
   "source": [
    "### set up to calculate $\\rho(H,J_z,\\psi)$"
   ]
  },
  {
   "cell_type": "code",
   "execution_count": 16,
   "metadata": {},
   "outputs": [
    {
     "name": "stdout",
     "output_type": "stream",
     "text": [
      "h_min =  -12.537622251116513\n",
      "-1.602746023429133 0.3993993993993994 -1.2566370614359172\n",
      "-10.148168114668884 0.03441934450431816\n"
     ]
    }
   ],
   "source": [
    "action_z_find = 0.4\n",
    "idx = abs(action_values - action_z_find).argmin()\n",
    "h = h_s_values[idx]\n",
    "action_z = action_values[idx]\n",
    "psi = -0.4 * pi\n",
    "\n",
    "h_min = h_function(action_z, small_number, 0.0)\n",
    "h_min = - 2.0 / action_z**2\n",
    "print('h_min = ', h_min)\n",
    "\n",
    "def rho_root(rho, h, action_z, psi):\n",
    "    # input Jz / 2 pi for action_z\n",
    "    value = h_function(action_z, rho, psi) - h\n",
    "    return value\n",
    "\n",
    "rho_num = 1000\n",
    "rho_values = linspace(rho_min, rho_max, num=rho_num)\n",
    "rho_root_values = zeros((rho_num))\n",
    "\n",
    "print(h, action_z, psi)\n",
    "\n",
    "for i, rho in enumerate(rho_values):\n",
    "    rho_root_values[i] = rho_root(rho, h, action_z, psi)\n",
    "fig, ax = plt.subplots()\n",
    "dummy = plt.plot(rho_values, rho_root_values)\n",
    "dummy = plt.title(r'separatrix $\\rho$ root plot for $J_z / 2 \\pi$ = %3.1f, $\\psi$ = %3.1f $\\pi$' % (action_z, psi/(2.0*pi)), fontsize=18)\n",
    "dummy = plt.xlabel(r'$\\rho$', fontsize=18)\n",
    "dummy = plt.ylabel(r'$H - H_s$', fontsize=18)\n",
    "dummy = plt.xticks(fontsize=18)\n",
    "dummy = plt.yticks(fontsize=18)\n",
    "dummy = plt.ylim([-0.5,0.0])\n",
    "\n",
    "print(rho_root_values[0],rho_root(rho_s_values[idx], h, action_z, psi))"
   ]
  },
  {
   "cell_type": "code",
   "execution_count": 17,
   "metadata": {},
   "outputs": [
    {
     "name": "stdout",
     "output_type": "stream",
     "text": [
      "-1.602746023429133 0.3993993993993994 -1.2566370614359172 0.5638386814283034 0.7032467225235501\n"
     ]
    }
   ],
   "source": [
    "rho_phase = root_scalar(rho_root, bracket=(rho_min,rho_s_values[idx]),\n",
    "                        args=(h, action_z, psi), method='bisect').root\n",
    "\n",
    "print(h, action_z, psi, rho_phase, rho_s_values[idx])"
   ]
  },
  {
   "cell_type": "code",
   "execution_count": 18,
   "metadata": {},
   "outputs": [
    {
     "name": "stdout",
     "output_type": "stream",
     "text": [
      "J-ExB =  0.47137201808098983\n"
     ]
    }
   ],
   "source": [
    "rho_s_interpolate = interp1d(action_values, rho_s_values, kind='linear', bounds_error = False, \n",
    "                               fill_value=(rho_s_values[0], rho_s_values[-1]))\n",
    "h_s_interpolate = interp1d(action_values, h_s_values, kind='linear', bounds_error = False, \n",
    "                               fill_value=(h_s_values[0], h_s_values[-1]))\n",
    "\n",
    "def rho_phase_plot(action_z, h, psi_num=1000):\n",
    "    # input Jz / 2 pi for action_z\n",
    "    h_min = - 2.0 / (action_z + small_number)**2\n",
    "#     print(h, h_min, h_s_interpolate(action_z))\n",
    "    if h < h_min or h > h_s_interpolate(action_z):\n",
    "        print('h must be greater than %5.1f and less than %5.1f' % (h_min,h_s_interpolate(action_z)))\n",
    "        return\n",
    "    rho_min = 1.0e-6\n",
    "    rho_max = 1.0\n",
    "    \n",
    "    psi_values = linspace(0.0, 2 * pi, num=psi_num)\n",
    "    rho_phase_values = zeros((psi_num))\n",
    "    rho_phase_values_2 = zeros((psi_num))\n",
    "\n",
    "    for i, psi in enumerate(psi_values):\n",
    "        rho_phase_values[i] = root_scalar(rho_root, bracket=(rho_min,rho_s_interpolate(action_z)),\n",
    "                        args=(h, action_z, psi), method='bisect').root\n",
    "        if rho_root(rho_max, h, action_z, psi) < 0.0:\n",
    "            rho_phase_values_2[i] =  root_scalar(rho_root, bracket=(rho_s_interpolate(action_z),rho_max),\n",
    "                    args=(h, action_z, psi), method='bisect').root\n",
    "        else:\n",
    "            rho_phase_values_2[i] = nan\n",
    "\n",
    "    jd_interpolate = interp1d(psi_values, rho_phase_values, kind='linear', bounds_error = False, \n",
    "                                   fill_value=(rho_phase_values[0], rho_phase_values[-1]))\n",
    "    def jd_integrand(psi):\n",
    "        value = jd_interpolate(psi) * jd_interpolate(psi) / 2.0\n",
    "        return value\n",
    "\n",
    "    jd = quad(jd_integrand, 0.00, 2.0 * pi)[0]\n",
    "    return psi_values, rho_phase_values, rho_phase_values_2, jd\n",
    "\n",
    "def action_idx_exact(action):    \n",
    "    idx = abs(action - action_values).argmin()\n",
    "    return action_values[idx], idx\n",
    "\n",
    "action_z_find = 0.4\n",
    "action_z_find, idx = action_idx_exact(action_z_find)\n",
    "\n",
    "psi_values, rho_phase_values, rho_phase_values_2, jd_s = rho_phase_plot(action_values[idx], h_s_interpolate(action_values[idx]))\n",
    "print('J-ExB = ', jd_s)\n",
    "\n",
    "fig, ax = plt.subplots()\n",
    "dummy = plt.plot(psi_values/pi, rho_phase_values)\n",
    "dummy = plt.plot(psi_values/pi, rho_phase_values_2)\n",
    "dummy = plt.title(r'separatrix plot for $J_z / 2 \\pi$ = %3.1f' % (action_z), fontsize=14)\n",
    "dummy = plt.xlabel(r'$\\psi / \\pi$', fontsize=14)\n",
    "dummy = plt.ylabel(r'$\\rho$', fontsize=14)\n",
    "dummy = plt.xticks(fontsize=14)\n",
    "dummy = plt.yticks(fontsize=14)\n",
    "dummy = plt.ylim([0.0,1.0])\n",
    "\n",
    "fig, ax = plt.subplots()\n",
    "dummy = plt.plot(rho_phase_values*cos(psi_values), rho_phase_values*sin(psi_values))\n",
    "dummy = plt.plot(rho_phase_values_2*cos(psi_values), rho_phase_values_2*sin(psi_values))\n",
    "dummy = plt.title(r'separatrix plot for $J_z / 2 \\pi$ = %3.1f' % (action_z), fontsize=14)\n",
    "dummy = plt.xlabel(r'$x$', fontsize=14)\n",
    "dummy = plt.ylabel(r'$y$', fontsize=14)\n",
    "dummy = plt.xticks(fontsize=14)\n",
    "dummy = plt.yticks(fontsize=14)\n",
    "dummy = plt.xlim([-0.6,0.6])\n",
    "dummy = plt.ylim([-1.0,0.5])\n",
    "dummy = ax.set_aspect('equal')\n",
    "dummy = plt.hlines(0.0,-0.6,0.6)\n",
    "dummy = plt.vlines(0.0,-1.0,0.5)"
   ]
  },
  {
   "cell_type": "markdown",
   "metadata": {},
   "source": [
    "### calculate the phase space trajectories and separatrix"
   ]
  },
  {
   "cell_type": "code",
   "execution_count": 19,
   "metadata": {},
   "outputs": [],
   "source": [
    "fig, ax = plt.subplots()\n",
    "\n",
    "action_z =0.4\n",
    "\n",
    "h = h_s_interpolate(action_z)\n",
    "psi_values, rho_phase_values, rho_phase_values_2, jd_s = rho_phase_plot(action_z, h)\n",
    "dummy = plt.plot(rho_phase_values*cos(psi_values), rho_phase_values*sin(psi_values), 'k-', label=r'$\\bar{H}_s / \\epsilon$ = %4.1f' % h)\n",
    "dummy = plt.plot(rho_phase_values_2*cos(psi_values), rho_phase_values_2*sin(psi_values), 'k-')\n",
    "\n",
    "h = -1.8\n",
    "psi_values, rho_phase_values, rho_phase_values_2, jd_s = rho_phase_plot(action_z, h)\n",
    "dummy = plt.plot(rho_phase_values*cos(psi_values), rho_phase_values*sin(psi_values), 'r-', label=r'$\\bar{H} / \\epsilon$ = %4.1f' % h)\n",
    "\n",
    "h = -2.5\n",
    "psi_values, rho_phase_values, rho_phase_values_2, jd_s = rho_phase_plot(action_z, h)\n",
    "dummy = plt.plot(rho_phase_values*cos(psi_values), rho_phase_values*sin(psi_values), 'g-', label=r'$\\bar{H} / \\epsilon$ = %4.1f' % h)\n",
    "\n",
    "h = -3.5\n",
    "psi_values, rho_phase_values, rho_phase_values_2, jd_s = rho_phase_plot(action_z, h)\n",
    "dummy = plt.plot(rho_phase_values*cos(psi_values), rho_phase_values*sin(psi_values), 'b-', label=r'$\\bar{H} / \\epsilon$ = %4.1f' % h)\n",
    "\n",
    "h = -5.5\n",
    "psi_values, rho_phase_values, rho_phase_values_2, jd_s = rho_phase_plot(action_z, h)\n",
    "dummy = plt.plot(rho_phase_values*cos(psi_values), rho_phase_values*sin(psi_values), 'm-', label=r'$\\bar{H} / \\epsilon$ = %4.1f' % h)\n",
    "\n",
    "dummy = plt.plot(rho_phase_values*cos(psi_values), rho_phase_values*sin(psi_values))\n",
    "dummy = plt.title(r'phase space plots for $\\bar{J}_z \\epsilon^{1/2} / 2 \\pi$ = %3.1f' % (action_z), fontsize=18)\n",
    "dummy = plt.xlabel(r'$\\bar{x} \\, \\epsilon$', fontsize=20)\n",
    "dummy = plt.ylabel(r'$\\bar{y} \\, \\epsilon$', fontsize=20)\n",
    "dummy = plt.xticks(fontsize=14)\n",
    "dummy = plt.yticks(fontsize=18)\n",
    "dummy = plt.xlim([-0.6,1.0])\n",
    "dummy = plt.ylim([-1.0,0.5])\n",
    "dummy = ax.set_aspect('equal')\n",
    "dummy = plt.hlines(0.0,-0.6,1.0)\n",
    "dummy = plt.vlines(0.0,-1.0,0.5)\n",
    "dummy = plt.legend(loc='best')"
   ]
  },
  {
   "cell_type": "code",
   "execution_count": 20,
   "metadata": {},
   "outputs": [],
   "source": [
    "fig, ax = plt.subplots()\n",
    "\n",
    "action_z = 0.0\n",
    "action_z, idx = action_idx_exact(action_z)\n",
    "h = h_s_interpolate(action_z)\n",
    "psi_values, rho_phase_values, rho_phase_values_2, jd_s = rho_phase_plot(action_z, h)\n",
    "dummy = plt.plot(rho_phase_values*cos(psi_values), rho_phase_values*sin(psi_values), 'k-', label=r'$\\bar{J}_s \\epsilon^{1/2}/2 \\pi$ = %4.1f' % action_z)\n",
    "\n",
    "action_z = 0.4\n",
    "action_z, idx = action_idx_exact(action_z)\n",
    "h = h_s_interpolate(action_z)\n",
    "psi_values, rho_phase_values, rho_phase_values_2, jd_s = rho_phase_plot(action_z, h)\n",
    "dummy = plt.plot(rho_phase_values*cos(psi_values), rho_phase_values*sin(psi_values), 'r-', label=r'$\\bar{J}_s \\epsilon^{1/2}/2 \\pi$ = %4.1f' % action_z)\n",
    "\n",
    "action_z = 0.8\n",
    "action_z, idx = action_idx_exact(action_z)\n",
    "h = h_s_interpolate(action_z)\n",
    "psi_values, rho_phase_values, rho_phase_values_2, jd_s = rho_phase_plot(action_z, h)\n",
    "dummy = plt.plot(rho_phase_values*cos(psi_values), rho_phase_values*sin(psi_values), 'g-', label=r'$\\bar{J}_s \\epsilon^{1/2}/2 \\pi$ = %4.1f' % action_z)\n",
    "\n",
    "action_z = 1.2\n",
    "action_z, idx = action_idx_exact(action_z)\n",
    "h = h_s_interpolate(action_z)\n",
    "psi_values, rho_phase_values, rho_phase_values_2, jd_s = rho_phase_plot(action_z, h)\n",
    "dummy = plt.plot(rho_phase_values*cos(psi_values), rho_phase_values*sin(psi_values), 'b-', label=r'$\\bar{J}_s \\epsilon^{1/2}/2 \\pi$ = %4.1f' % action_z)\n",
    "\n",
    "action_z = 1.6\n",
    "action_z, idx = action_idx_exact(action_z)\n",
    "h = h_s_interpolate(action_z)\n",
    "psi_values, rho_phase_values, rho_phase_values_2, jd_s = rho_phase_plot(action_z, h)\n",
    "dummy = plt.plot(rho_phase_values*cos(psi_values), rho_phase_values*sin(psi_values), 'm-', label=r'$\\bar{J}_s \\epsilon^{1/2}/2 \\pi$ = %4.1f' % action_z)\n",
    "\n",
    "dummy = plt.plot(rho_phase_values*cos(psi_values), rho_phase_values*sin(psi_values))\n",
    "dummy = plt.title(r'phase space plots separatrix', fontsize=18)\n",
    "dummy = plt.xlabel(r'$\\bar{x} \\, \\epsilon$', fontsize=20)\n",
    "dummy = plt.ylabel(r'$\\bar{y} \\, \\epsilon$', fontsize=20)\n",
    "dummy = plt.xticks(fontsize=14)\n",
    "dummy = plt.yticks(fontsize=18)\n",
    "dummy = plt.xlim([-0.6,1.25])\n",
    "dummy = plt.ylim([-1.0,0.5])\n",
    "dummy = ax.set_aspect('equal')\n",
    "dummy = plt.hlines(0.0,-0.6,1.25)\n",
    "dummy = plt.vlines(0.0,-1.0,0.5)\n",
    "dummy = plt.legend(loc='best')"
   ]
  },
  {
   "cell_type": "markdown",
   "metadata": {},
   "source": [
    "### calculate $J_{Ds}(J_z)$ of the separatrix"
   ]
  },
  {
   "cell_type": "code",
   "execution_count": 21,
   "metadata": {},
   "outputs": [],
   "source": [
    "# how to sample \\action\n",
    "action_z_tpi_min = 0.0\n",
    "action_z_tpi_max = 1.6\n",
    "action_z_tpi_num = 30\n",
    "action_values_2 = linspace(action_z_tpi_min, action_z_tpi_max, num=action_z_tpi_num)\n",
    "jd_s_values = zeros((action_z_tpi_num))\n",
    "\n",
    "for i, action_z in enumerate(action_values_2):\n",
    "    action_z, idx = action_idx_exact(action_z)\n",
    "    h = h_s_interpolate(action_z)\n",
    "    psi_values, rho_phase_values, rho_phase_values_2, jd_s_values[i] = rho_phase_plot(action_z, h)\n",
    "    "
   ]
  },
  {
   "cell_type": "code",
   "execution_count": 22,
   "metadata": {},
   "outputs": [],
   "source": [
    "dummy = plt.plot(action_values_2, jd_s_values)\n",
    "dummy = plt.title(r'action of separatrix', fontsize=18)\n",
    "dummy = plt.xlabel(r'$\\bar{J}_z \\, \\frac{\\epsilon^{1/2}}{2 \\pi}$', fontsize=20)\n",
    "dummy = plt.ylabel(r'$\\bar{J}_{Ds} \\, (r_{ce}/b) \\, \\epsilon^2$', fontsize=20)\n",
    "dummy = plt.xticks(fontsize=18)\n",
    "dummy = plt.yticks(fontsize=18)\n",
    "dummy = plt.xlim([0.0,1.6])\n",
    "dummy = plt.ylim([0.0,1.2])"
   ]
  },
  {
   "cell_type": "markdown",
   "metadata": {},
   "source": [
    "### contour plot the energy, $H(J_z;x, y)$ to show the phase space trajectories"
   ]
  },
  {
   "cell_type": "code",
   "execution_count": 23,
   "metadata": {},
   "outputs": [],
   "source": [
    "x_min = -1.5\n",
    "x_max = 1.5\n",
    "x_num = 500\n",
    "y_min = -1.5\n",
    "y_max = 1.5\n",
    "y_num = 500\n",
    "\n",
    "x_values = linspace(x_min, x_max, num=x_num)\n",
    "y_values = linspace(y_min, y_max, num=y_num)\n",
    "h_values = zeros((x_num, y_num))\n",
    "\n",
    "action_z = 0.4\n",
    "\n",
    "for i, x_value in enumerate(x_values):\n",
    "    for j, y_value in enumerate(y_values):\n",
    "        rho = sqrt( x_values[i]**2 + y_values[j]**2 )\n",
    "        psi = arcsin(y_values[j] / (rho + small_number))\n",
    "        h_values[j,i] = h_function(action_z, rho, psi)"
   ]
  },
  {
   "cell_type": "code",
   "execution_count": 24,
   "metadata": {
    "scrolled": true
   },
   "outputs": [],
   "source": [
    "origin = 'lower'\n",
    "\n",
    "fig1, ax2 = plt.subplots(constrained_layout=True)\n",
    "\n",
    "CS = ax2.contourf(x_values, y_values, h_values, 100, cmap=plt.cm.bone, origin=origin)\n",
    "\n",
    "levels = [1.03,0.8,0.6,0.4,0.2,0.0,-0.2,-0.4,-0.6,-0.8,-1.0,-1.2,-1.4,-1.6021,-1.8,-2.5,-3.5,-5.5]\n",
    "\n",
    "CS2 = ax2.contour(CS, levels=levels, colors='r', origin=origin)\n",
    "\n",
    "ax2.set_title(r'phase trajectories for $\\bar{J}_z \\, \\frac{\\epsilon^{1/2}}{2 \\pi}$ = %4.1f' % action_z, fontsize=18)\n",
    "ax2.set_xlabel(r'$\\bar{x} \\, \\epsilon$', fontsize=18)\n",
    "ax2.set_ylabel(r'$\\bar{y} \\, \\epsilon$', fontsize=18)\n",
    "\n",
    "plt.xticks(fontsize=14)\n",
    "plt.yticks(fontsize=14)\n",
    "ax2.tick_params(which='major', length=7, width=2, direction='in')\n",
    "ax2.xaxis.set_ticks_position('both')\n",
    "ax2.yaxis.set_ticks_position('both')\n",
    "\n",
    "cbar = fig1.colorbar(CS)\n",
    "cbar.ax.set_ylabel(r'$\\bar{H} / \\epsilon$', fontsize=20)\n",
    "cbar.add_lines(CS2)\n",
    "dummy = ax2.set_aspect('equal')"
   ]
  },
  {
   "cell_type": "markdown",
   "metadata": {},
   "source": [
    "## contour plot the full Hamiltonian, $H(J_z,a,\\vec{R};x,y)$, including ion cylotron motion"
   ]
  },
  {
   "cell_type": "code",
   "execution_count": 25,
   "metadata": {},
   "outputs": [
    {
     "name": "stdout",
     "output_type": "stream",
     "text": [
      "J_z =  0.4\n",
      "H_s =  -1.6021558798817404\n",
      "rho_s =  0.7028100833374046\n",
      "H_min =  -12.499999999999998\n"
     ]
    }
   ],
   "source": [
    "print('J_z = ', action_z)\n",
    "print('H_s = ', h_s_interpolate(action_z))\n",
    "print('rho_s = ', rho_s_interpolate(action_z))\n",
    "print('H_min = ', - 2.0 / action_z**2)"
   ]
  },
  {
   "cell_type": "code",
   "execution_count": 26,
   "metadata": {},
   "outputs": [],
   "source": [
    "def h_rho_total(x,y,j_z,a,r_x,r_y):\n",
    "    # input Jz / 2 pi for j_z\n",
    "    rho = sqrt(x**2 + y**2)\n",
    "    a_factor = 2.0 * pi * j_z / sqrt(rho)\n",
    "    \n",
    "    value = 0.5 * ((x-r_x)**2 + (y-r_y)**2)\n",
    "    value -= a * eta_interpolate(y_A_function(a_factor)) / rho \n",
    "    return value\n",
    "\n",
    "def total_phase_space(j_z,a,r_x,r_y, num=1000):\n",
    "    # input Jz / 2 pi for j_z\n",
    "    x_min = -1.5\n",
    "    x_max = 1.5\n",
    "    x_num = num\n",
    "    y_min = -2.5\n",
    "    y_max = 1.0\n",
    "    y_num = num\n",
    "\n",
    "    xt_values = linspace(x_min, x_max, num=x_num)\n",
    "    yt_values = linspace(y_min, y_max, num=y_num)\n",
    "    ht_values = zeros((x_num, y_num))\n",
    "\n",
    "    rs1_3 = 1.0 / a\n",
    "    rs2_2 = a / sqrt(r_x**2 + r_y**2)\n",
    "\n",
    "    print('J_z / 2 pi = %4.1f' % j_z)\n",
    "    print('rs_1^3 = %4.1f' % rs1_3)\n",
    "    print('rs_2^2 = %4.1f' % rs2_2)\n",
    "\n",
    "    for i, xt_value in enumerate(xt_values):\n",
    "        for j, yt_value in enumerate(yt_values):\n",
    "            ht_values[j,i] = h_rho_total(xt_value,yt_value,j_z,a,r_x,r_y) \n",
    "    return xt_values, yt_values, ht_values, rs1_3, rs2_2"
   ]
  },
  {
   "cell_type": "code",
   "execution_count": 27,
   "metadata": {},
   "outputs": [
    {
     "name": "stdout",
     "output_type": "stream",
     "text": [
      "J_z / 2 pi =  0.4\n",
      "rs_1^3 =  1.0\n",
      "rs_2^2 =  1.0\n"
     ]
    }
   ],
   "source": [
    "j_z = 0.4\n",
    "a = 1.0\n",
    "r_y = -1.0\n",
    "r_x = 0.0\n",
    "\n",
    "xt_values, yt_values, ht_values, rs1_3, rs2_2 = total_phase_space(j_z,a,r_x,r_y, num=1000)"
   ]
  },
  {
   "cell_type": "code",
   "execution_count": 28,
   "metadata": {
    "scrolled": false
   },
   "outputs": [],
   "source": [
    "origin = 'lower'\n",
    "\n",
    "fig1, ax2 = plt.subplots(figsize=[12.0,12.0])\n",
    "\n",
    "CS = ax2.contourf(xt_values, yt_values, ht_values, 100, cmap=plt.cm.bone, origin=origin)\n",
    "\n",
    "levels = [2.5,2.0,1.5,1.0,0.5,0.0,-0.3,-0.6,-0.9,-1.2,-1.6,-2.0,-2.5,-3.5,-5.5]\n",
    "\n",
    "CS2 = ax2.contour(CS, levels=levels, colors='r', origin=origin)\n",
    "# CS2 = ax2.contour(CS, levels=CS.levels[::5], colors='r', origin=origin)\n",
    "\n",
    "ax2.set_title(r'phase trajectories for $\\bar{J}_z \\, / 2 \\pi}$ = %4.1f, $\\bar{r}_{s1}^3$ = %4.1f, $\\bar{r}_{s2}^2$ = %4.1f' \n",
    "              % (j_z,rs1_3,rs2_2), fontsize=22)\n",
    "ax2.set_xlabel(r'$\\bar{x}$', fontsize=22)\n",
    "ax2.set_ylabel(r'$\\bar{y}$', fontsize=22)\n",
    "\n",
    "plt.xticks(fontsize=18)\n",
    "plt.yticks(fontsize=18)\n",
    "ax2.tick_params(which='major', length=7, width=2, direction='in')\n",
    "ax2.xaxis.set_ticks_position('both')\n",
    "ax2.yaxis.set_ticks_position('both')\n",
    "\n",
    "cbar = fig1.colorbar(CS)\n",
    "cbar.ax.set_ylabel(r'$\\bar{H}$', fontsize=22)\n",
    "cbar.add_lines(CS2)\n",
    "cbar.ax.tick_params(labelsize='x-large')\n",
    "dummy = ax2.set_aspect('equal')"
   ]
  },
  {
   "cell_type": "code",
   "execution_count": 29,
   "metadata": {},
   "outputs": [],
   "source": [
    "def total_phase_space(j_z,a,r_x,r_y, num=1000):\n",
    "    # input Jz / 2 pi for j_z\n",
    "    x_min = -0.65\n",
    "    x_max = 0.65\n",
    "    x_num = num\n",
    "    y_min = -1.7\n",
    "    y_max = 0.3\n",
    "    y_num = num\n",
    "\n",
    "    xt_values = linspace(x_min, x_max, num=x_num)\n",
    "    yt_values = linspace(y_min, y_max, num=y_num)\n",
    "    ht_values = zeros((x_num, y_num))\n",
    "\n",
    "    rs1_3 = 1.0 / a\n",
    "    rs2_2 = a / sqrt(r_x**2 + r_y**2)\n",
    "\n",
    "    print('J_z / 2 pi = %4.1f' % j_z)\n",
    "    print('rs_1^3 = %4.1f' % rs1_3)\n",
    "    print('rs_2^2 = %4.1f' % rs2_2)\n",
    "\n",
    "    for i, xt_value in enumerate(xt_values):\n",
    "        for j, yt_value in enumerate(yt_values):\n",
    "            ht_values[j,i] = h_rho_total(xt_value,yt_value,j_z,a,r_x,r_y) \n",
    "    return xt_values, yt_values, ht_values, rs1_3, rs2_2"
   ]
  },
  {
   "cell_type": "code",
   "execution_count": 30,
   "metadata": {},
   "outputs": [
    {
     "name": "stdout",
     "output_type": "stream",
     "text": [
      "J_z / 2 pi =  0.4\n",
      "rs_1^3 =  6.7\n",
      "rs_2^2 =  0.1\n"
     ]
    }
   ],
   "source": [
    "j_z = 0.4\n",
    "a = 0.15\n",
    "r_y = -1.0\n",
    "r_x = 0.0\n",
    "\n",
    "xt_values, yt_values, ht_values, rs1_3, rs2_2 = total_phase_space(j_z,a,r_x,r_y, num=1000)"
   ]
  },
  {
   "cell_type": "code",
   "execution_count": 33,
   "metadata": {
    "scrolled": false
   },
   "outputs": [],
   "source": [
    "origin = 'lower'\n",
    "\n",
    "fig1, ax2 = plt.subplots(figsize=[12.0,12.0])\n",
    "\n",
    "#CS = ax2.contourf(xt_values, yt_values, ht_values, 100, cmap=plt.cm.gist_earth_r, origin=origin)\n",
    "\n",
    "levels = [-0.5,-0.2,-0.1,-0.05,-0.004,0.1,0.25,0.50,0.75,1.00,1.25,1.50,1.75,2.00,2.25,2.50,2.75,3.00]\n",
    "\n",
    "CS2 = ax2.contour(xt_values, yt_values, ht_values, levels=levels, colors='k', origin=origin)\n",
    "#CS2 = ax2.contour(CS, levels=levels, colors='r', origin=origin)\n",
    "# CS2 = ax2.contour(CS, levels=CS.levels[::5], colors='r', origin=origin)\n",
    "\n",
    "ax2.set_title(r'phase trajectories for $\\bar{J}_z \\, / 2 \\pi}$ = %5.2f, $\\bar{r}_{s1}^3$ = %5.2f, $\\bar{r}_{s2}^2$ = %4.1f' \n",
    "              % (j_z,rs1_3,rs2_2), fontsize=22)\n",
    "ax2.set_xlabel(r'$\\bar{x}$', fontsize=22)\n",
    "ax2.set_ylabel(r'$\\bar{y}$', fontsize=22)\n",
    "\n",
    "plt.xticks(fontsize=18)\n",
    "plt.yticks(fontsize=18)\n",
    "ax2.tick_params(which='major', length=7, width=2, direction='in')\n",
    "ax2.xaxis.set_ticks_position('both')\n",
    "ax2.yaxis.set_ticks_position('both')\n",
    "\n",
    "cbar = fig1.colorbar(CS)\n",
    "cbar.ax.set_ylabel(r'$\\bar{H}$', fontsize=22)\n",
    "cbar.add_lines(CS2)\n",
    "cbar.ax.tick_params(labelsize='x-large')\n",
    "dummy = ax2.set_aspect('equal')"
   ]
  },
  {
   "cell_type": "markdown",
   "metadata": {},
   "source": [
    "## calculate the action angle mapping to calculate the phase space movement, $\\psi(t)$"
   ]
  },
  {
   "cell_type": "code",
   "execution_count": 32,
   "metadata": {},
   "outputs": [],
   "source": [
    "def action_angle_mapping(j_z, h, num=1000):\n",
    "    psi_min = 0.0\n",
    "    psi_max = 2.0 * pi\n",
    "    psi_num = num\n",
    "\n",
    "    psi_values, rho_phase_values, rho_phase_values_2, jd = rho_phase_plot(j_z, h)\n",
    "    rho_interpolate = interp1d(psi_values, rho_phase_values, kind='linear', bounds_error = False, copy=True, \n",
    "                               fill_value=(rho_phase_values[0], rho_phase_values[-1]))\n",
    "    \n",
    "    psi_values = linspace(psi_min, psi_max, num=psi_num)\n",
    "    t_values = zeros((psi_num))\n",
    "    rho_values = zeros((psi_num))\n",
    "\n",
    "    for i, psi in enumerate(psi_values):\n",
    "        rho_values[i] = rho_interpolate(psi)\n",
    "        if i < (rho_values.shape[0]-1):\n",
    "            rho_values[i+1] = rho_interpolate(psi_values[i+1])\n",
    "            t_values[i+1] = t_values[i] + 0.5 * (1.0/dpsi_dt_function(j_z, rho_values[i], psi_values[i]) +\n",
    "                       1.0/dpsi_dt_function(j_z, rho_values[i+1], psi_values[i+1])) * (psi_values[i+1]-psi_values[i])\n",
    "    psi_t = interp1d(t_values, psi_values, kind='linear', bounds_error = False, copy=True, \n",
    "                               fill_value=(psi_values[0], psi_values[-1]))\n",
    "    rho_t = interp1d(t_values, rho_values, kind='linear', bounds_error = False, copy=True, \n",
    "                               fill_value=(rho_values[0], rho_values[-1]))\n",
    "    return psi_t, rho_t, t_values[-1], jd"
   ]
  },
  {
   "cell_type": "code",
   "execution_count": 83,
   "metadata": {},
   "outputs": [
    {
     "name": "stdout",
     "output_type": "stream",
     "text": [
      "J_z =  0.40\n",
      "H = -1.6050\n",
      "\n",
      "ExB drift period =  2.69\n",
      "ExB drift frequency =  2.33\n",
      "J_D =  0.46\n",
      "rho_s =  0.70\n",
      "H_s = -1.6022\n",
      "H_min =  -12.50\n"
     ]
    }
   ],
   "source": [
    "action_z_traj = 0.4\n",
    "#h_traj_0 = -1.610\n",
    "h_traj_0 = -1.605\n",
    "t_num = 180\n",
    "\n",
    "psi_t_0, rho_t_0, t_max_0, jd_0 = action_angle_mapping(action_z_traj, h_traj_0, num=t_num)\n",
    "rho_s = rho_s_interpolate(action_z_traj)\n",
    "h_s = h_s_interpolate(action_z_traj)\n",
    "\n",
    "omega_d_0 = 2.0 * pi / t_max_0\n",
    "print('J_z = %5.2f' % action_z_traj)\n",
    "print('H = %5.4f\\n' % h_traj_0)\n",
    "print('ExB drift period = %5.2f' % t_max_0)\n",
    "print('ExB drift frequency = %5.2f' % omega_d_0)\n",
    "print('J_D = %5.2f' % jd_0)\n",
    "print('rho_s = %5.2f' % rho_s)\n",
    "print('H_s = %5.4f' % h_s)\n",
    "print('H_min = %7.2f' % (- 2.0 / action_z_traj**2))"
   ]
  },
  {
   "cell_type": "code",
   "execution_count": 84,
   "metadata": {},
   "outputs": [
    {
     "data": {
      "image/png": "[encoded data removed]",
      "text/plain": [
       "<Figure size 640x480 with 1 Axes>"
      ]
     },
     "metadata": {},
     "output_type": "display_data"
    },
    {
     "data": {
      "image/png": "[encoded data removed]",
      "text/plain": [
       "<Figure size 640x480 with 1 Axes>"
      ]
     },
     "metadata": {},
     "output_type": "display_data"
    }
   ],
   "source": [
    "t_values_0 = linspace(0.0, t_max_0, num=t_num)\n",
    "\n",
    "plt.figure()\n",
    "plt.plot(t_values_0,psi_t_0(t_values_0)/(2.0*pi))\n",
    "dummy = plt.title(r'time evolution of $\\psi$', fontsize=18)\n",
    "dummy = plt.xlabel(r'$\\bar{t} \\, (r_{ce}/b) \\, \\epsilon^3$', fontsize=20)\n",
    "dummy = plt.ylabel(r'$\\psi / 2 \\pi$', fontsize=20)\n",
    "dummy = plt.xticks(fontsize=14)\n",
    "dummy = plt.yticks(fontsize=18)\n",
    "dummy = plt.xlim([0.0,t_max_0])\n",
    "dummy = plt.ylim([0.0,1.0])\n",
    "\n",
    "plt.figure()\n",
    "plt.plot(t_values_0,rho_t_0(t_values_0))\n",
    "dummy = plt.title(r'time evolution of $\\rho$', fontsize=18)\n",
    "dummy = plt.xlabel(r'$\\bar{t} \\, (r_{ce}/b) \\, \\epsilon^3$', fontsize=20)\n",
    "dummy = plt.ylabel(r'$\\bar{\\rho} \\, \\epsilon$', fontsize=20)\n",
    "dummy = plt.xticks(fontsize=14)\n",
    "dummy = plt.yticks(fontsize=18)\n",
    "dummy = plt.xlim([0.0,t_max_0])\n",
    "dummy = plt.ylim([0.0,1.0])"
   ]
  },
  {
   "cell_type": "code",
   "execution_count": 85,
   "metadata": {},
   "outputs": [
    {
     "name": "stdout",
     "output_type": "stream",
     "text": [
      "J_z =  0.40\n",
      "H = -1.6035\n",
      "\n",
      "ExB drift period =  3.10\n",
      "ExB drift frequency =  2.03\n",
      "J_D =  0.47\n",
      "rho_s =  0.70\n",
      "H_s = -1.6022\n",
      "H_min =  -12.50\n"
     ]
    }
   ],
   "source": [
    "h_traj_1 = -1.6035\n",
    "\n",
    "psi_t_1, rho_t_1, t_max_1, jd_1 = action_angle_mapping(action_z_traj, h_traj_1, num=t_num)\n",
    "rho_s = rho_s_interpolate(action_z_traj)\n",
    "h_s = h_s_interpolate(action_z_traj)\n",
    "\n",
    "omega_d_1 = 2.0 * pi / t_max_1\n",
    "print('J_z = %5.2f' % action_z_traj)\n",
    "print('H = %5.4f\\n' % h_traj_1)\n",
    "print('ExB drift period = %5.2f' % t_max_1)\n",
    "print('ExB drift frequency = %5.2f' % omega_d_1)\n",
    "print('J_D = %5.2f' % jd_1)\n",
    "print('rho_s = %5.2f' % rho_s)\n",
    "print('H_s = %5.4f' % h_s)\n",
    "print('H_min = %7.2f' % (- 2.0 / action_z_traj**2))"
   ]
  },
  {
   "cell_type": "code",
   "execution_count": 86,
   "metadata": {},
   "outputs": [
    {
     "data": {
      "image/png": "[encoded data removed]",
      "text/plain": [
       "<Figure size 640x480 with 1 Axes>"
      ]
     },
     "metadata": {},
     "output_type": "display_data"
    },
    {
     "data": {
      "image/png": "[encoded data removed]",
      "text/plain": [
       "<Figure size 640x480 with 1 Axes>"
      ]
     },
     "metadata": {},
     "output_type": "display_data"
    }
   ],
   "source": [
    "t_values_1 = linspace(0.0, t_max_1, num=t_num)\n",
    "\n",
    "plt.figure()\n",
    "plt.plot(t_values_1,psi_t_1(t_values_1)/(2.0*pi))\n",
    "dummy = plt.title(r'time evolution of $\\psi$', fontsize=18)\n",
    "dummy = plt.xlabel(r'$\\bar{t} \\, (r_{ce}/b) \\, \\epsilon^3$', fontsize=20)\n",
    "dummy = plt.ylabel(r'$\\psi / 2 \\pi$', fontsize=20)\n",
    "dummy = plt.xticks(fontsize=14)\n",
    "dummy = plt.yticks(fontsize=18)\n",
    "dummy = plt.xlim([0.0,t_max_1])\n",
    "dummy = plt.ylim([0.0,1.0])\n",
    "\n",
    "plt.figure()\n",
    "plt.plot(t_values_1,rho_t_1(t_values_1))\n",
    "dummy = plt.title(r'time evolution of $\\rho$', fontsize=18)\n",
    "dummy = plt.xlabel(r'$\\bar{t} \\, (r_{ce}/b) \\, \\epsilon^3$', fontsize=20)\n",
    "dummy = plt.ylabel(r'$\\bar{\\rho} \\, \\epsilon$', fontsize=20)\n",
    "dummy = plt.xticks(fontsize=14)\n",
    "dummy = plt.yticks(fontsize=18)\n",
    "dummy = plt.xlim([0.0,t_max_1])\n",
    "dummy = plt.ylim([0.0,1.0])"
   ]
  },
  {
   "cell_type": "markdown",
   "metadata": {},
   "source": [
    "### animate phase space trajectory"
   ]
  },
  {
   "cell_type": "code",
   "execution_count": 87,
   "metadata": {},
   "outputs": [
    {
     "data": {
      "image/png": "[encoded data removed]",
      "text/plain": [
       "<Figure size 640x480 with 1 Axes>"
      ]
     },
     "metadata": {},
     "output_type": "display_data"
    }
   ],
   "source": [
    "n_cycles = 10\n",
    "t_values = linspace(0.0, n_cycles*t_max_0, num=n_cycles*t_num)\n",
    "t_values_plt_0 = mod(t_values,t_max_0)\n",
    "t_values_plt_1 = mod(t_values,t_max_1)\n",
    "\n",
    "idx = 50\n",
    "\n",
    "xx_0 = rho_t_0(t_values_plt_0)*cos(psi_t_0(t_values_plt_0))\n",
    "yy_0 = rho_t_0(t_values_plt_0)*sin(psi_t_0(t_values_plt_0))\n",
    "xx_1 = rho_t_1(t_values_plt_1)*cos(psi_t_1(t_values_plt_1))\n",
    "yy_1 = rho_t_1(t_values_plt_1)*sin(psi_t_1(t_values_plt_1))\n",
    "tt = t_values\n",
    "\n",
    "# xx = flip(xx)\n",
    "# yy = flip(yy)\n",
    "\n",
    "fig, ax = plt.subplots()\n",
    "\n",
    "dummy = plt.plot(xx_0, yy_0)\n",
    "dummy = plt.plot(xx_1, yy_1)\n",
    "dummy = plt.title(r'phase space evolution for $\\bar{J}_z \\epsilon^{1/2} / 2 \\pi$ = %4.2f, $\\bar{H}/\\epsilon$ = %4.2f, $\\bar{t} \\, (r_{ce}/b) \\, \\epsilon^3$ = %4.2f' % (action_z_traj, h_traj_0, t_values[idx]), fontsize=18)\n",
    "dummy = plt.xlabel(r'$\\bar{x} \\, \\epsilon$', fontsize=20)\n",
    "dummy = plt.ylabel(r'$\\bar{y} \\, \\epsilon = p_x \\, (r_{ce}/b) \\, \\epsilon$', fontsize=20)\n",
    "dummy = plt.xticks(fontsize=14)\n",
    "dummy = plt.yticks(fontsize=18)\n",
    "dummy = plt.xlim([-0.6,0.6])\n",
    "dummy = plt.ylim([-1.0,0.5])\n",
    "dummy = ax.set_aspect('equal')\n",
    "dummy = plt.hlines(0.0,-0.6,1.0)\n",
    "dummy = plt.vlines(0.0,-1.0,0.5)\n",
    "dummy = plt.arrow(0.0,0.0,xx_0[idx],yy_0[idx], linewidth=5, head_width=0.05,color='k')\n",
    "dummy = plt.arrow(0.0,0.0,xx_1[idx],yy_1[idx], linewidth=5, head_width=0.05,color='k')\n"
   ]
  },
  {
   "cell_type": "code",
   "execution_count": 88,
   "metadata": {},
   "outputs": [],
   "source": [
    "savez(expanduser('~/tmp/output_data.npz'), xx_0=xx_0, yy_0=yy_0, xx_1=xx_1, yy_1=yy_1, tt=tt, action_z_traj=action_z_traj, h_traj_0=h_traj_0, h_traj_1=h_traj_1)"
   ]
  },
  {
   "cell_type": "code",
   "execution_count": 89,
   "metadata": {
    "scrolled": false
   },
   "outputs": [
    {
     "data": {
      "image/png": "[encoded data removed]",
      "text/plain": [
       "<Figure size 1000x800 with 1 Axes>"
      ]
     },
     "metadata": {},
     "output_type": "display_data"
    }
   ],
   "source": [
    "from os.path import expanduser, join\n",
    "import matplotlib.pyplot as plt\n",
    "import numpy as np\n",
    "import matplotlib.animation as animation\n",
    "\n",
    "with np.load(expanduser('~/tmp/output_data.npz')) as data:\n",
    "    xx_0 = data['xx_0']\n",
    "    yy_0 = data['yy_0']\n",
    "    xx_1 = data['xx_1']\n",
    "    yy_1 = data['yy_1']\n",
    "    tt = data['tt']\n",
    "    action_z_traj = data['action_z_traj']\n",
    "    h_traj_0 = data['h_traj_0']\n",
    "    h_traj_1 = data['h_traj_1']\n",
    "    \n",
    "dt = 1.0 * tt[1]  # period of 1 is 1 s\n",
    "\n",
    "fig = plt.figure(figsize=(10, 8))\n",
    "ax = fig.add_subplot(111, autoscale_on=False, xlim=(-0.6, 0.6), ylim=(-1.0, 0.5))\n",
    "ax.set_aspect('equal')\n",
    "ax.grid()\n",
    "ax.plot(xx_0,yy_0, 'k-', lw=2)\n",
    "ax.plot(xx_1,yy_1, 'k-', lw=2)\n",
    "ax.set_title(r'$\\bar{J}_z \\epsilon^{1/2} / 2 \\pi$ = %4.2f, $\\bar{H}_0/\\epsilon$ = %4.4f, $\\bar{H}_1/\\epsilon$ = %4.4f' % (action_z_traj,h_traj_0,h_traj_1), fontsize=18)\n",
    "ax.set_xlabel(r'$\\bar{x} \\, \\epsilon$', fontsize=18)\n",
    "ax.set_ylabel(r'$\\bar{y} \\, \\epsilon = p_x \\, (r_{ce}/b) \\, \\epsilon$', fontsize=18)\n",
    "plt.xticks(fontsize=18)\n",
    "plt.yticks(fontsize=18)\n",
    "\n",
    "line_0, = ax.plot([], [], 'o-', lw=7, ms=14)\n",
    "line_1, = ax.plot([], [], 'o-', lw=7, ms=14)\n",
    "time_template = r'$\\bar{t} \\, (r_{ce}/b) \\, \\epsilon^3$ = %4.2f'\n",
    "time_text = ax.text(0.05, 0.9, '', transform=ax.transAxes, fontsize=18)\n",
    "\n",
    "def animate(i):\n",
    "    thisx_0 = [0, xx_0[i]]\n",
    "    thisy_0 = [0, yy_0[i]]\n",
    "    thisx_1 = [0, xx_1[i]]\n",
    "    thisy_1 = [0, yy_1[i]]\n",
    "\n",
    "    line_0.set_data(thisx_0, thisy_0)\n",
    "    line_1.set_data(thisx_1, thisy_1)\n",
    "    time_text.set_text(time_template % (tt[i]))\n",
    "    return line_0, line_1, time_text\n",
    "\n",
    "ani = animation.FuncAnimation(\n",
    "    fig, animate, len(tt), interval=dt*1000, blit=True)\n",
    "plt.show()"
   ]
  },
  {
   "cell_type": "code",
   "execution_count": 91,
   "metadata": {},
   "outputs": [],
   "source": [
    "file_name = expanduser('~/tmp/phase_space.mp4') # 'mov', 'mp4', 'avi', 'gif'\n",
    "# writervideo = animation.PillowWriter(fps=30)  # 'gif'\n",
    "writervideo = animation.FFMpegWriter(fps=60)  # 'mov', 'mp4', 'avi'\n",
    "ani.save(file_name, writer=writervideo)"
   ]
  },
  {
   "cell_type": "code",
   "execution_count": 92,
   "metadata": {},
   "outputs": [],
   "source": [
    "file_name = expanduser('~/tmp/phase_space.html') \n",
    "with open(file_name, \"w\") as f:\n",
    "    print(ani.to_html5_video(), file=f)"
   ]
  },
  {
   "cell_type": "code",
   "execution_count": 90,
   "metadata": {},
   "outputs": [
    {
     "data": {
      "text/plain": [
       "0.01496946833148161"
      ]
     },
     "execution_count": 90,
     "metadata": {},
     "output_type": "execute_result"
    }
   ],
   "source": [
    "1000*tt[1]  # ms/frame"
   ]
  },
  {
   "cell_type": "code",
   "execution_count": null,
   "metadata": {},
   "outputs": [],
   "source": []
  }
 ],
 "metadata": {
  "kernelspec": {
   "display_name": "Python 3 (ipykernel)",
   "language": "python",
   "name": "python3"
  },
  "language_info": {
   "codemirror_mode": {
    "name": "ipython",
    "version": 3
   },
   "file_extension": ".py",
   "mimetype": "text/x-python",
   "name": "python",
   "nbconvert_exporter": "python",
   "pygments_lexer": "ipython3",
   "version": "3.8.12"
  }
 },
 "nbformat": 4,
 "nbformat_minor": 4
}
